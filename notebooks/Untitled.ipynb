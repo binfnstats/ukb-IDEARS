{
 "cells": [
  {
   "cell_type": "code",
   "execution_count": 21,
   "id": "aa19c52a-f7e5-404b-b4e5-928d29a7b4d4",
   "metadata": {},
   "outputs": [
    {
     "name": "stdout",
     "output_type": "stream",
     "text": [
      "The autoreload extension is already loaded. To reload it, use:\n",
      "  %reload_ext autoreload\n"
     ]
    }
   ],
   "source": [
    "import os\n",
    "%load_ext autoreload\n",
    "%autoreload 2\n",
    "import pandas as pd\n",
    "\n",
    "\n",
    "import warnings\n",
    "warnings.filterwarnings('ignore')\n",
    "\n"
   ]
  },
  {
   "cell_type": "code",
   "execution_count": 22,
   "id": "611a6984-631b-4b8b-81c0-fe139a18ed91",
   "metadata": {},
   "outputs": [
    {
     "data": {
      "text/plain": [
       "['.DS_Store',\n",
       " 'logic',\n",
       " 'README.md',\n",
       " '.gitattributes',\n",
       " 'ukb_utils',\n",
       " '.git',\n",
       " 'main.py',\n",
       " 'notebooks']"
      ]
     },
     "execution_count": 22,
     "metadata": {},
     "output_type": "execute_result"
    }
   ],
   "source": [
    "os.listdir('../')"
   ]
  },
  {
   "cell_type": "code",
   "execution_count": 25,
   "id": "5858fb7a-425a-4c50-b15e-f4432b71f03f",
   "metadata": {},
   "outputs": [
    {
     "ename": "ImportError",
     "evalue": "attempted relative import with no known parent package",
     "output_type": "error",
     "traceback": [
      "\u001b[0;31m---------------------------------------------------------------------------\u001b[0m",
      "\u001b[0;31mImportError\u001b[0m                               Traceback (most recent call last)",
      "\u001b[0;32m<ipython-input-25-6b21e66bcc6c>\u001b[0m in \u001b[0;36m<module>\u001b[0;34m\u001b[0m\n\u001b[0;32m----> 1\u001b[0;31m \u001b[0;32mfrom\u001b[0m \u001b[0;34m.\u001b[0m\u001b[0;34m.\u001b[0m\u001b[0mdata_import\u001b[0m \u001b[0;32mimport\u001b[0m \u001b[0mdataload\u001b[0m\u001b[0;34m\u001b[0m\u001b[0;34m\u001b[0m\u001b[0m\n\u001b[0m",
      "\u001b[0;31mImportError\u001b[0m: attempted relative import with no known parent package"
     ]
    }
   ],
   "source": [
    "from data_import import dataload"
   ]
  },
  {
   "cell_type": "code",
   "execution_count": 13,
   "id": "5ca763cc-8633-4a3b-bc82-93e5a1d9c0dc",
   "metadata": {},
   "outputs": [
    {
     "data": {
      "text/plain": [
       "['untitled folder',\n",
       " 'genotype.parquet',\n",
       " 'ukb_tp0_score.csv',\n",
       " 'E3E4E4E4Changes.csv',\n",
       " 'eidukb.csv',\n",
       " 'df_dem2_20210924.parquet',\n",
       " 'newvarsdict2.csv',\n",
       " 'SNPs',\n",
       " 'pd_dem_disease_dates.parquet',\n",
       " 'df_ad.parquet',\n",
       " 'ml_1.html',\n",
       " 'ukb_cols80.p',\n",
       " 'df_dem.parquet',\n",
       " 'fig3_age_when_attended_assessment_centre_f21003_0_0.svg',\n",
       " 'ibuprofen_check.csv',\n",
       " 'fig3_hand_grip_strength_left_f46_0_0.svg',\n",
       " 'df_ad_20210924.parquet',\n",
       " 'df_PD_study.parquet',\n",
       " 'scat_lrapoe4.csv',\n",
       " 'df_pd2_20210924.parquet',\n",
       " 'cols80.csv',\n",
       " 'Untitled.ipynb',\n",
       " 'df_scat_apoe.csv',\n",
       " 'dis_ohe_icd10.parquet',\n",
       " 'ukb_rebal.csv',\n",
       " 'df_dem_frailty_filt.parquet',\n",
       " 'df_scat.csv',\n",
       " 'AD_model_full_shap.csv',\n",
       " 'df_model.parquet',\n",
       " 'df_ad2_20210924.parquet',\n",
       " 'ukb_treatments.parquet',\n",
       " 'df_PD_newcols.parquet',\n",
       " 'medications_codes.csv',\n",
       " 'ukb_tp0_vars.csv',\n",
       " 'labels.parquet',\n",
       " 'PD_model_allcols_bmi.parquet',\n",
       " 'fig3_perc_correct_matches_rounds_quint.svg',\n",
       " 'varlkup.csv',\n",
       " 'ml_1.r',\n",
       " 'treatments_df.parquet',\n",
       " 'ipupdate_eids.csv',\n",
       " 'labels_dates.parquet',\n",
       " 'scaled_slopes.csv',\n",
       " 'adpdftd_shap.csv',\n",
       " 'df_dem_lancet.parquet',\n",
       " 'igf1.csv',\n",
       " 'ipupdate_eids.xlsx',\n",
       " 'varimpfull20200611.csv',\n",
       " 'treat_list.csv',\n",
       " 'cols_disease.csv',\n",
       " 'all_092021.csv',\n",
       " 'AD_model_full70_.p',\n",
       " 'df_fam_hist.parquet',\n",
       " 'df_dis_date.parquet',\n",
       " 'ukb_tp0_new.parquet',\n",
       " 'df_dem_20210924.parquet',\n",
       " 'dem_model_allcols_bmi.parquet',\n",
       " 'df_dem_frailty.parquet',\n",
       " 'vallistcomp.csv',\n",
       " 'colslookup.csv',\n",
       " 'ukb_tp_vars.csv',\n",
       " 'ukb_shap.csv',\n",
       " 'ADmodeldata.parquet',\n",
       " 'df_pd_20210924.parquet',\n",
       " 'all_fields_251020_1.parquet',\n",
       " 'fig3_igf1_f30770_0_0_quint.svg',\n",
       " 'summary_ill_long.csv',\n",
       " '.ipynb_checkpoints',\n",
       " 'ukb_modelPD_rebal.csv',\n",
       " 'variablesummaryfilt.csv',\n",
       " 'adpdftdshap.csv',\n",
       " 'df_scat2.csv',\n",
       " 'dem_model_selcols_bmi.parquet',\n",
       " 'coding4.tsv',\n",
       " 'pd_dis_rates.csv',\n",
       " 'ukb_tp0_.parquet',\n",
       " 'ukb_disease_labels_full.parquet',\n",
       " 'dis_ohe.parquet',\n",
       " 'AD_modelage.csv',\n",
       " 'scat_lrapoe4',\n",
       " 'excludes.parquet',\n",
       " 'ICD10_lookup.csv',\n",
       " 'ukb_ICD10.parquet',\n",
       " 'ukb_tp0_cols80.parquet',\n",
       " 'df_pd.parquet',\n",
       " 'disease_dates.parquet',\n",
       " 'edid_date.csv',\n",
       " 'UKB_sparse.csv',\n",
       " 'variablesummary.csv',\n",
       " 'WA_Fn-UseC_-Telco-Customer-Churn.csv',\n",
       " 'dis_ohe_icd10_20210924.parquet',\n",
       " 'vallistcomp_edited.csv',\n",
       " 'fig3_hand_grip_strength_left_f46_0_0_quint.svg',\n",
       " 'ukb_cols80.parquet',\n",
       " 'df_dem_frailty_study.parquet',\n",
       " 'df_pd_an.csv',\n",
       " 'df_dem_ted.parquet']"
      ]
     },
     "execution_count": 13,
     "metadata": {},
     "output_type": "execute_result"
    }
   ],
   "source": [
    "os.listdir(\"../../../../../michaelallwright/Dropbox (Sydney Uni)/michael_PhD/Projects/UKB/Data\")"
   ]
  },
  {
   "cell_type": "code",
   "execution_count": null,
   "id": "e1b738a9-d64f-408f-a7b6-4e236885f30a",
   "metadata": {},
   "outputs": [],
   "source": []
  }
 ],
 "metadata": {
  "kernelspec": {
   "display_name": "Python 3",
   "language": "python",
   "name": "python3"
  },
  "language_info": {
   "codemirror_mode": {
    "name": "ipython",
    "version": 3
   },
   "file_extension": ".py",
   "mimetype": "text/x-python",
   "name": "python",
   "nbconvert_exporter": "python",
   "pygments_lexer": "ipython3",
   "version": "3.8.8"
  }
 },
 "nbformat": 4,
 "nbformat_minor": 5
}
