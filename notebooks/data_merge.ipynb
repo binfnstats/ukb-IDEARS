{
 "cells": [
  {
   "cell_type": "code",
   "execution_count": 1,
   "id": "1221aad1-513d-4c58-bdcd-847cb8de6473",
   "metadata": {},
   "outputs": [],
   "source": [
    "import pandas as pd\n",
    "import numpy as np\n",
    "\n",
    "import os\n",
    "path=\"../../Data/\"\n",
    "import numpy as np\n",
    "import re\n",
    "import datetime as dt"
   ]
  },
  {
   "cell_type": "code",
   "execution_count": 2,
   "id": "21270358-338f-4531-9b3a-e688ca4dad68",
   "metadata": {},
   "outputs": [],
   "source": [
    "def onehotencoder(df,cols,excwords,maxrecs=10,mincount=0.8):\n",
    "    \n",
    "    #create nulls where unknown for future imputation\n",
    "    for col in df.columns:\n",
    "        mask_exc=(df[col].isin(excwords))\n",
    "        df[col][mask_exc]=np.nan  \n",
    "    ohe_cols=\\\n",
    "    [col for col in cols if len(df[col].value_counts())<maxrecs\n",
    "     and df[col].count()/df[col].shape[0]>mincount]\n",
    "    \n",
    "    print(r'Total ohe variables = %0.0f ' % (len(ohe_cols)))\n",
    "        \n",
    "    df_ohe_cols=df[ohe_cols]\n",
    "         \n",
    "    df_out=pd.get_dummies(df_ohe_cols, prefix=df_ohe_cols.columns,\n",
    "               columns=df_ohe_cols.columns)\n",
    "       \n",
    "    df_out['eid']=df['eid'].tolist()\n",
    "    \n",
    "    return df_out"
   ]
  },
  {
   "cell_type": "code",
   "execution_count": 3,
   "id": "6caf75d2-575b-4819-8e1f-65d2d0c7befd",
   "metadata": {},
   "outputs": [],
   "source": [
    "def findcols(df,string):\n",
    "    return [col for col in df if string in col]"
   ]
  },
  {
   "cell_type": "code",
   "execution_count": 4,
   "id": "4e744af1-1858-45a7-882c-ac3d8fda7382",
   "metadata": {},
   "outputs": [],
   "source": [
    "df_model=pd.read_parquet(path+'df_model.parquet')"
   ]
  },
  {
   "cell_type": "code",
   "execution_count": 5,
   "id": "46236e7e-7290-467f-98e7-f45369db7d46",
   "metadata": {},
   "outputs": [],
   "source": [
    "apoe4_df=pd.read_parquet(path+'genotype.parquet')"
   ]
  },
  {
   "cell_type": "code",
   "execution_count": 6,
   "id": "b1d0855f-30e0-40eb-a229-7cbd6f4586e6",
   "metadata": {},
   "outputs": [],
   "source": [
    "apoe4_df=apoe4_df[pd.notnull(apoe4_df['Genotype'])]"
   ]
  },
  {
   "cell_type": "code",
   "execution_count": 7,
   "id": "81ea0e54-a36f-458e-97fb-3fc6f6acdad9",
   "metadata": {},
   "outputs": [
    {
     "name": "stdout",
     "output_type": "stream",
     "text": [
      "Total ohe variables = 1 \n"
     ]
    }
   ],
   "source": [
    "apoe4_df=onehotencoder(apoe4_df,['Genotype'],[],maxrecs=10,mincount=0.7)"
   ]
  },
  {
   "cell_type": "code",
   "execution_count": 8,
   "id": "2e6b1a59-c40e-43f3-b9d6-c9bada0b9a17",
   "metadata": {},
   "outputs": [],
   "source": [
    "dis_ohe=pd.read_parquet(path+'dis_ohe.parquet')\n",
    "#dis_ohe_icd10=pd.read_parquet(path+'dis_ohe_icd10.parquet')\n",
    "dis_ohe_icd10=pd.read_parquet(path+'dis_ohe_icd10_20210924.parquet')\n",
    "labels=pd.read_parquet(path+'labels.parquet')\n",
    "excludes=pd.read_parquet(path+'excludes.parquet')"
   ]
  },
  {
   "cell_type": "code",
   "execution_count": 9,
   "id": "158a1feb-435d-4ccc-ae42-b5dca6910ab4",
   "metadata": {},
   "outputs": [],
   "source": [
    "#dis_ohe['total_dis']=dis_ohe[[col for col in dis_ohe.columns if 'eid' not in col]].sum(axis=1)"
   ]
  },
  {
   "cell_type": "code",
   "execution_count": 10,
   "id": "703334bf-117c-4613-93a3-81e468a8f827",
   "metadata": {},
   "outputs": [
    {
     "data": {
      "text/plain": [
       "['total_dis']"
      ]
     },
     "execution_count": 10,
     "metadata": {},
     "output_type": "execute_result"
    }
   ],
   "source": [
    "findcols(dis_ohe,'total_dis')"
   ]
  },
  {
   "cell_type": "code",
   "execution_count": 11,
   "id": "3be1d0a3-a242-45c2-a5bc-beecb44eb6e3",
   "metadata": {},
   "outputs": [],
   "source": [
    "ukb_deaths=pd.read_parquet(path+'ukb_tp0_new.parquet',columns=['eid','date_of_death_f40000_0_0'])\n",
    "ukb_deaths=ukb_deaths[(ukb_deaths['date_of_death_f40000_0_0']!='nan')]\n",
    "ukb_deaths['date_of_death_f40000_0_0']=pd.to_datetime(ukb_deaths['date_of_death_f40000_0_0'])"
   ]
  },
  {
   "cell_type": "code",
   "execution_count": 12,
   "id": "b4bb31ec-673e-4407-ae5d-3614b2c4c161",
   "metadata": {},
   "outputs": [],
   "source": [
    "mask_dem=~(labels[[col for col in labels.columns if 'dementia' in col]].sum(axis=1)>0)\n",
    "mask_pd=~(labels[[col for col in labels.columns if 'parkinso' in col]].sum(axis=1)>0)\n",
    "mask_ad=~(labels[[col for col in labels.columns if 'alzhei' in col]].sum(axis=1)>0)\n",
    "\n",
    "\n",
    "\n",
    "'''\n",
    "Exclude everyone who died from something other than dementia\n",
    "'''\n",
    "dem_excs=list(excludes[(excludes[[col for col in excludes.columns if 'dementia' in col]].sum(axis=1)>0)]['eid'])\n",
    "death_exc_dem=list(pd.merge(ukb_deaths,labels[mask_dem],on='eid',how='inner')['eid'])\n",
    "eids_exc_dem=list(dem_excs)+list(death_exc_dem)\n",
    "\n",
    "PD_excs=list(excludes[(excludes[[col for col in excludes.columns if 'parkinson' in col]].sum(axis=1)>0)]['eid'])\n",
    "death_exc_pd=list(pd.merge(ukb_deaths,labels[mask_pd],on='eid',how='inner')['eid'])\n",
    "eids_exc_pd=list(PD_excs)+list(death_exc_pd)\n",
    "\n",
    "\n",
    "AD_excs=list(excludes[(excludes[[col for col in excludes.columns if 'AD' in col]]\\\n",
    ".sum(axis=1)>0)]['eid'])+dem_excs\n",
    "death_exc_ad=list(pd.merge(ukb_deaths,labels[mask_ad],on='eid',how='inner')['eid'])\n",
    "eids_exc_ad=list(AD_excs)+list(death_exc_ad)\n",
    "\n"
   ]
  },
  {
   "cell_type": "code",
   "execution_count": 13,
   "id": "d07ccdb3-f34b-401c-8c61-847530443328",
   "metadata": {},
   "outputs": [],
   "source": [
    "dis_ohe_icd10['eid']=dis_ohe_icd10['eid'].astype(str)\n",
    "df_model['eid']=df_model['eid'].astype(str)\n",
    "dis_ohe['eid']=dis_ohe['eid'].astype(str)\n",
    "apoe4_df['eid']=apoe4_df['eid'].astype(str)\n",
    "labels['eid']=labels['eid'].astype(str)"
   ]
  },
  {
   "cell_type": "code",
   "execution_count": 14,
   "id": "4786df64-4a55-4002-bee0-eb1d92fa8521",
   "metadata": {},
   "outputs": [],
   "source": [
    "df=pd.merge(df_model,dis_ohe_icd10,on='eid',how='inner')\n",
    "#df=pd.merge(df,dis_ohe,on='eid',how='inner')\n",
    "df=pd.merge(df,apoe4_df,on='eid',how='left')"
   ]
  },
  {
   "cell_type": "code",
   "execution_count": 15,
   "id": "459ef66f-7d97-4579-990a-25710feac455",
   "metadata": {},
   "outputs": [],
   "source": [
    "df2=pd.merge(df_model,dis_ohe,on='eid',how='inner')\n",
    "#df=pd.merge(df,dis_ohe,on='eid',how='inner')\n",
    "df2=pd.merge(df2,apoe4_df,on='eid',how='left')"
   ]
  },
  {
   "cell_type": "code",
   "execution_count": 16,
   "id": "7ef014ea-6623-4f85-b4d6-2b1ec45634d5",
   "metadata": {},
   "outputs": [
    {
     "data": {
      "text/plain": [
       "['total_dis']"
      ]
     },
     "execution_count": 16,
     "metadata": {},
     "output_type": "execute_result"
    }
   ],
   "source": [
    "findcols(df2,'total_dis')"
   ]
  },
  {
   "cell_type": "code",
   "execution_count": 17,
   "id": "e4d5e49f-8d37-4e5f-93e7-9ed18f2d094a",
   "metadata": {},
   "outputs": [
    {
     "data": {
      "text/plain": [
       "['avg_duration_to_first_press_of_snapbutton_in_each_round',\n",
       " 'total_snap_presses',\n",
       " 'mean_snap_presses']"
      ]
     },
     "execution_count": 17,
     "metadata": {},
     "output_type": "execute_result"
    }
   ],
   "source": [
    "findcols(df2,'snap')"
   ]
  },
  {
   "cell_type": "code",
   "execution_count": 18,
   "id": "66a42a80-9313-45f4-a4f3-2c3feb103e77",
   "metadata": {},
   "outputs": [],
   "source": [
    "labels['dementia']=labels[[col for col in labels.columns if 'dementia' in col]].max(axis=1)\n",
    "labels['PD']=labels[[col for col in labels.columns if 'parkinson' in col]].max(axis=1)\n",
    "labels['AD']=labels[[col for col in labels.columns if 'alzh' in col]].max(axis=1)"
   ]
  },
  {
   "cell_type": "code",
   "execution_count": 19,
   "id": "59f3b378-985a-4c3c-b694-633e5ba1bb68",
   "metadata": {},
   "outputs": [],
   "source": [
    "df=pd.merge(df,labels[['eid','dementia','PD','AD']],on='eid',how='inner')"
   ]
  },
  {
   "cell_type": "code",
   "execution_count": 20,
   "id": "f429930d-dd7b-47f7-a1ad-2e1aec3e30ab",
   "metadata": {},
   "outputs": [],
   "source": [
    "df2=pd.merge(df2,labels[['eid','dementia','PD','AD']],on='eid',how='inner')"
   ]
  },
  {
   "cell_type": "code",
   "execution_count": 21,
   "id": "4828dead-b9de-4c99-b6ae-f6377e3ca213",
   "metadata": {},
   "outputs": [],
   "source": [
    "df['AST_ALT_ratio']=df['aspartate_aminotransferase_f30650_0_0']/\\\n",
    "df['alanine_aminotransferase_f30620_0_0']"
   ]
  },
  {
   "cell_type": "code",
   "execution_count": 22,
   "id": "4d2d1cfd-2647-4a66-8fe6-5bd0b2f2e869",
   "metadata": {},
   "outputs": [],
   "source": [
    "df2['AST_ALT_ratio']=df2['aspartate_aminotransferase_f30650_0_0']/\\\n",
    "df2['alanine_aminotransferase_f30620_0_0']"
   ]
  },
  {
   "cell_type": "code",
   "execution_count": 23,
   "id": "733c9980-699c-49fc-a989-a37553676d1a",
   "metadata": {},
   "outputs": [],
   "source": [
    "'''\n",
    "Exclude deaths with no disease and already have disease\n",
    "'''\n",
    "mask=(df['eid'].isin(eids_exc_dem))\n",
    "df_dem=df[~mask]\n",
    "df_dem.drop(columns=[col for col in findcols(df_dem,'dementia|AD') if col!='dementia'],inplace=True)\n",
    "\n",
    "mask=(df['eid'].isin(eids_exc_pd))\n",
    "df_pd=df[~mask]\n",
    "df_pd.drop(columns=[col for col in findcols(df_dem,'parkins') if col!='PD'],inplace=True)\n",
    "\n",
    "mask=(df['eid'].isin(eids_exc_ad))\n",
    "df_ad=df[~mask]\n",
    "df_ad.drop(columns=[col for col in findcols(df_dem,'dement') if col!='AD'],inplace=True)\n",
    "\n",
    "\n"
   ]
  },
  {
   "cell_type": "code",
   "execution_count": 24,
   "id": "5582d721-9ba0-4ea0-82b8-a04db7acd0ee",
   "metadata": {},
   "outputs": [],
   "source": [
    "'''\n",
    "Exclude deaths with no disease and already have disease\n",
    "'''\n",
    "mask=(df2['eid'].isin(eids_exc_dem))\n",
    "df_dem2=df2[~mask]\n",
    "df_dem2.drop(columns=[col for col in findcols(df_dem2,'dementia|AD') if col!='dementia'],inplace=True)\n",
    "\n",
    "mask=(df2['eid'].isin(eids_exc_pd))\n",
    "df_pd2=df2[~mask]\n",
    "df_pd2.drop(columns=[col for col in findcols(df_dem2,'parkins') if col!='PD'],inplace=True)\n",
    "\n",
    "mask=(df2['eid'].isin(eids_exc_ad))\n",
    "df_ad2=df2[~mask]\n",
    "df_ad2.drop(columns=[col for col in findcols(df_ad2,'dement') if col!='AD'],inplace=True)\n",
    "\n"
   ]
  },
  {
   "cell_type": "code",
   "execution_count": 25,
   "id": "65eff60b-58e0-40b2-a321-1b6e1e065cb0",
   "metadata": {},
   "outputs": [],
   "source": [
    "df_dem2.to_parquet(path+'df_dem2_20210924.parquet')\n",
    "df_pd2.to_parquet(path+'df_pd2_20210924.parquet')\n",
    "df_ad2.to_parquet(path+'df_ad2_20210924.parquet')"
   ]
  },
  {
   "cell_type": "code",
   "execution_count": 26,
   "id": "6c9fc4bf-600d-4483-bed9-64103b5c8729",
   "metadata": {},
   "outputs": [],
   "source": [
    "df_dem.to_parquet(path+'df_dem_20210924.parquet')\n",
    "df_pd.to_parquet(path+'df_pd_20210924.parquet')\n",
    "df_ad.to_parquet(path+'df_ad_20210924.parquet')"
   ]
  },
  {
   "cell_type": "code",
   "execution_count": null,
   "id": "34b1160f-4a36-4c62-83fb-328b55532865",
   "metadata": {},
   "outputs": [],
   "source": [
    "\n",
    "findcols(df_dem,'aspa')"
   ]
  },
  {
   "cell_type": "code",
   "execution_count": 37,
   "id": "3095dd38-849c-467e-9279-4770d50c2a74",
   "metadata": {},
   "outputs": [
    {
     "data": {
      "text/plain": [
       "1401.0"
      ]
     },
     "execution_count": 37,
     "metadata": {},
     "output_type": "execute_result"
    }
   ],
   "source": [
    "df_dem['AD'].sum()"
   ]
  },
  {
   "cell_type": "code",
   "execution_count": 11,
   "id": "6ffb16b1-8f1e-4c25-bef7-a861bfd1e797",
   "metadata": {},
   "outputs": [
    {
     "data": {
      "text/plain": [
       "1930.0"
      ]
     },
     "execution_count": 11,
     "metadata": {},
     "output_type": "execute_result"
    }
   ],
   "source": [
    "df_pd['PD'].sum()"
   ]
  },
  {
   "cell_type": "code",
   "execution_count": 12,
   "id": "c862f361-a9e2-4427-9b5e-14ba36ef19ec",
   "metadata": {},
   "outputs": [],
   "source": []
  },
  {
   "cell_type": "code",
   "execution_count": 18,
   "id": "11849b04-0031-4674-a090-6a000d20d3ac",
   "metadata": {},
   "outputs": [
    {
     "data": {
      "text/plain": [
       "['f00dementia_in_alzheimers_disease_f130836_0_0',\n",
       " 'f01vascular_dementia_f130838_0_0',\n",
       " 'f02dementia_in_other_diseases_classified_elsewhere_f130840_0_0',\n",
       " 'f03unspecified_dementia_f130842_0_0']"
      ]
     },
     "execution_count": 18,
     "metadata": {},
     "output_type": "execute_result"
    }
   ],
   "source": []
  },
  {
   "cell_type": "code",
   "execution_count": 13,
   "id": "b4c2f3a2-b052-4158-a9d3-7b5c3a6dca6e",
   "metadata": {},
   "outputs": [],
   "source": []
  },
  {
   "cell_type": "code",
   "execution_count": null,
   "id": "7c8a2bc0-cc43-4a54-9c34-ff626a989141",
   "metadata": {},
   "outputs": [],
   "source": []
  }
 ],
 "metadata": {
  "kernelspec": {
   "display_name": "Python 3",
   "language": "python",
   "name": "python3"
  },
  "language_info": {
   "codemirror_mode": {
    "name": "ipython",
    "version": 3
   },
   "file_extension": ".py",
   "mimetype": "text/x-python",
   "name": "python",
   "nbconvert_exporter": "python",
   "pygments_lexer": "ipython3",
   "version": "3.8.8"
  }
 },
 "nbformat": 4,
 "nbformat_minor": 5
}
