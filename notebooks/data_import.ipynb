{
 "cells": [
  {
   "cell_type": "code",
   "execution_count": 1,
   "id": "3da850bf-a32f-4423-ad65-72c768b33cb4",
   "metadata": {},
   "outputs": [],
   "source": [
    "import pandas as pd\n",
    "import os\n",
    "path=\"../../Data/\"\n",
    "import numpy as np\n",
    "import re"
   ]
  },
  {
   "cell_type": "code",
   "execution_count": 2,
   "id": "60303f81-8e69-44a5-a2cf-5ea2ebf91b78",
   "metadata": {},
   "outputs": [],
   "source": [
    "def findcols(df,string):\n",
    "    return [col for col in df if string in col]"
   ]
  },
  {
   "cell_type": "code",
   "execution_count": 3,
   "id": "37470739-996c-47b9-9e1e-17d14ab17b5c",
   "metadata": {},
   "outputs": [],
   "source": [
    "def nonnull_eids(df,col):\n",
    "    eids=df['eid'][pd.notnull(df[col])]\n",
    "    df_out=df[['eid',col]][pd.notnull(df[col])]\n",
    "    return eids,df_out"
   ]
  },
  {
   "cell_type": "code",
   "execution_count": 4,
   "id": "78d71c27-df78-48a4-bf86-df6c593b2a52",
   "metadata": {},
   "outputs": [],
   "source": [
    "def convert_null(df):\n",
    "    for col in df.columns:\n",
    "        mask=(df[col]=='Prefer not to answer')\n",
    "        df[col][mask]=np.NaN\n",
    "    return df\n",
    "        "
   ]
  },
  {
   "cell_type": "code",
   "execution_count": null,
   "id": "cd181222-fd59-4cab-a38f-9f75f556892f",
   "metadata": {},
   "outputs": [],
   "source": [
    "%%time\n",
    "ukb_tp0=pd.read_parquet(path+'ukb_tp0_new.parquet')\n",
    "#ukb_tp0=pd.read_parquet(path+'ukb_tp0_new.parquet',columns=cols80_exc)"
   ]
  },
  {
   "cell_type": "code",
   "execution_count": 6,
   "id": "4639814f-aecf-45e9-bd21-35e426696397",
   "metadata": {},
   "outputs": [],
   "source": [
    "disease_cols=findcols(ukb_tp0,'first_reported')+['eid']+['date_of_attending_assessment_centre_f53_0_0']"
   ]
  },
  {
   "cell_type": "code",
   "execution_count": 1,
   "id": "2cf1e843-a41f-4ac7-bd83-cc7432c40056",
   "metadata": {},
   "outputs": [
    {
     "ename": "NameError",
     "evalue": "name 'pd' is not defined",
     "output_type": "error",
     "traceback": [
      "\u001b[0;31m---------------------------------------------------------------------------\u001b[0m",
      "\u001b[0;31mNameError\u001b[0m                                 Traceback (most recent call last)",
      "\u001b[0;32m<ipython-input-1-bd3293ddd0db>\u001b[0m in \u001b[0;36m<module>\u001b[0;34m\u001b[0m\n\u001b[0;32m----> 1\u001b[0;31m \u001b[0mdisease_cols_df\u001b[0m\u001b[0;34m=\u001b[0m\u001b[0mpd\u001b[0m\u001b[0;34m.\u001b[0m\u001b[0mDataFrame\u001b[0m\u001b[0;34m(\u001b[0m\u001b[0mdisease_cols\u001b[0m\u001b[0;34m)\u001b[0m\u001b[0;34m\u001b[0m\u001b[0;34m\u001b[0m\u001b[0m\n\u001b[0m\u001b[1;32m      2\u001b[0m \u001b[0mdisease_cols_df\u001b[0m\u001b[0;34m.\u001b[0m\u001b[0mcolumns\u001b[0m\u001b[0;34m=\u001b[0m\u001b[0;34m[\u001b[0m\u001b[0;34m'column'\u001b[0m\u001b[0;34m]\u001b[0m\u001b[0;34m\u001b[0m\u001b[0;34m\u001b[0m\u001b[0m\n\u001b[1;32m      3\u001b[0m \u001b[0mdisease_cols_df\u001b[0m\u001b[0;34m.\u001b[0m\u001b[0mto_csv\u001b[0m\u001b[0;34m(\u001b[0m\u001b[0mpath\u001b[0m\u001b[0;34m+\u001b[0m\u001b[0;34m'cols_disease.csv'\u001b[0m\u001b[0;34m)\u001b[0m\u001b[0;34m\u001b[0m\u001b[0;34m\u001b[0m\u001b[0m\n",
      "\u001b[0;31mNameError\u001b[0m: name 'pd' is not defined"
     ]
    }
   ],
   "source": [
    "disease_cols_df=pd.DataFrame(disease_cols)\n",
    "disease_cols_df.columns=['column']\n",
    "disease_cols_df.to_csv(path+'cols_disease.csv')"
   ]
  },
  {
   "cell_type": "code",
   "execution_count": 8,
   "id": "89f42d1a-5577-42de-a36c-20a15795ca95",
   "metadata": {},
   "outputs": [],
   "source": [
    "death_eids=nonnull_eids(ukb_tp0,'date_of_death_f40000_0_0')[0]"
   ]
  },
  {
   "cell_type": "code",
   "execution_count": 9,
   "id": "8ffcdd88-8004-42bf-9a61-c95e68aca3af",
   "metadata": {},
   "outputs": [
    {
     "name": "stderr",
     "output_type": "stream",
     "text": [
      "<timed exec>:2: SettingWithCopyWarning: \n",
      "A value is trying to be set on a copy of a slice from a DataFrame\n",
      "\n",
      "See the caveats in the documentation: https://pandas.pydata.org/pandas-docs/stable/user_guide/indexing.html#returning-a-view-versus-a-copy\n"
     ]
    },
    {
     "name": "stdout",
     "output_type": "stream",
     "text": [
      "CPU times: user 4min 18s, sys: 26.9 s, total: 4min 45s\n",
      "Wall time: 7min 58s\n"
     ]
    }
   ],
   "source": [
    "%%time\n",
    "for col in ukb_tp0.columns:\n",
    "    ukb_tp0[col][(ukb_tp0[col]=='nan')]=np.NaN\n",
    "cols80=[col for col in ukb_tp0.columns if ukb_tp0[col].count()/ukb_tp0.shape[0]>0.8]\n",
    "cols80_df=pd.DataFrame(cols80)\n",
    "cols80_df.columns=['colname']\n",
    "cols80_df.to_csv(path+'cols80.csv')"
   ]
  },
  {
   "cell_type": "code",
   "execution_count": 10,
   "id": "ead8d5b9-515c-4ba3-af1b-12f3a428208d",
   "metadata": {},
   "outputs": [],
   "source": [
    "cols80_df=pd.read_csv(path+'cols80.csv')"
   ]
  },
  {
   "cell_type": "code",
   "execution_count": 11,
   "id": "c42e9c9a-e32b-44c1-86c8-c4d0226b5fa4",
   "metadata": {},
   "outputs": [],
   "source": [
    "cols80=list(cols80_df['colname'])\n",
    "excs='source_of_report|first_reported|icd10|icd9|operative_procedures|treatment_speciality|external_ca|patient_recoded|\\\n",
    "hospital_polymorphic|_report|assay_date|device_id'\n",
    "cols80_exc=[col for col in cols80 if not re.search(excs,col) ]"
   ]
  },
  {
   "cell_type": "code",
   "execution_count": 12,
   "id": "5be5f63e-8447-4fc3-a854-eb474bdd95f7",
   "metadata": {},
   "outputs": [],
   "source": [
    "ukb_tp0_cols80=ukb_tp0[cols80_exc]"
   ]
  },
  {
   "cell_type": "code",
   "execution_count": 13,
   "id": "31624bc2-99b5-454d-8f34-5f76c686a9e9",
   "metadata": {
    "tags": []
   },
   "outputs": [
    {
     "name": "stderr",
     "output_type": "stream",
     "text": [
      "<ipython-input-4-f69c7aac2563>:4: SettingWithCopyWarning: \n",
      "A value is trying to be set on a copy of a slice from a DataFrame\n",
      "\n",
      "See the caveats in the documentation: https://pandas.pydata.org/pandas-docs/stable/user_guide/indexing.html#returning-a-view-versus-a-copy\n",
      "  df[col][mask]=np.NaN\n",
      "/Users/michaelallwright/opt/anaconda3/lib/python3.8/site-packages/pandas/core/series.py:992: SettingWithCopyWarning: \n",
      "A value is trying to be set on a copy of a slice from a DataFrame\n",
      "\n",
      "See the caveats in the documentation: https://pandas.pydata.org/pandas-docs/stable/user_guide/indexing.html#returning-a-view-versus-a-copy\n",
      "  self._where(~key, value, inplace=True)\n"
     ]
    }
   ],
   "source": [
    "ukb_tp0_cols80=convert_null(ukb_tp0_cols80)"
   ]
  },
  {
   "cell_type": "code",
   "execution_count": 14,
   "id": "b5622117-1cfe-4ef2-9b7f-0826e5d27443",
   "metadata": {},
   "outputs": [],
   "source": [
    "ukb_tp0_cols80.to_parquet(path+'ukb_tp0_cols80.parquet')"
   ]
  },
  {
   "cell_type": "markdown",
   "id": "0d8ef28c-d391-409e-b82b-7977b3276e54",
   "metadata": {},
   "source": [
    "#### New file"
   ]
  },
  {
   "cell_type": "code",
   "execution_count": 200,
   "id": "8fd0f454-ecac-4f07-a105-1e9b87565312",
   "metadata": {},
   "outputs": [],
   "source": [
    "ordcols_full=pd.read_csv(path+'vallistcomp_edited.csv')\n",
    "ordcols=ordcols_full[(ordcols_full['Do']!='Exclude')&(ordcols_full['Do']!='ohe')&pd.notnull(ordcols_full['Do'])][['column','Do']]"
   ]
  },
  {
   "cell_type": "code",
   "execution_count": 203,
   "id": "2848608a-dd96-4c1d-a9ff-a0a59c0627a7",
   "metadata": {},
   "outputs": [
    {
     "name": "stderr",
     "output_type": "stream",
     "text": [
      "<ipython-input-203-ec36ee4a6076>:3: SettingWithCopyWarning: \n",
      "A value is trying to be set on a copy of a slice from a DataFrame.\n",
      "Try using .loc[row_indexer,col_indexer] = value instead\n",
      "\n",
      "See the caveats in the documentation: https://pandas.pydata.org/pandas-docs/stable/user_guide/indexing.html#returning-a-view-versus-a-copy\n",
      "  ukb_tp0_cols80[col+'_ord']=ukb_tp0_cols80[col].map(ast.literal_eval(ordcols['Do'].iloc[i]))\n"
     ]
    }
   ],
   "source": [
    "import ast\n",
    "for i,col in enumerate(ordcols['column']):\n",
    "    ukb_tp0_cols80[col+'_ord']=ukb_tp0_cols80[col].map(ast.literal_eval(ordcols['Do'].iloc[i]))\n",
    "   "
   ]
  },
  {
   "cell_type": "code",
   "execution_count": 190,
   "id": "539f2766-b1b0-4b50-b5ce-d4ece175aa18",
   "metadata": {},
   "outputs": [],
   "source": [
    "ordvars=[col+'_ord' for col in ordcols['column']]"
   ]
  },
  {
   "cell_type": "code",
   "execution_count": 191,
   "id": "cca2c052-6e8f-4a6d-a9a5-e316f48d1761",
   "metadata": {},
   "outputs": [],
   "source": [
    "ctsvars=[col for col in ukb_tp0_cols80.columns if re.search('float',str(ukb_tp0_cols80[col].dtype))]\n",
    "excvars=list(ordcols_full[(ordcols_full['Do']=='Exclude')]['column'])\n",
    "ohe_vars=[col for col in ukb_tp0_cols80.columns if col not in ordvars+ctsvars+excvars]"
   ]
  },
  {
   "cell_type": "code",
   "execution_count": 209,
   "id": "1380f437-9119-4442-99b5-824bfc165a08",
   "metadata": {},
   "outputs": [],
   "source": []
  },
  {
   "cell_type": "code",
   "execution_count": 211,
   "id": "c93f7555-c1ef-42bb-ab9e-fd174520579e",
   "metadata": {},
   "outputs": [],
   "source": []
  },
  {
   "cell_type": "code",
   "execution_count": 214,
   "id": "5b48fb8a-7860-42be-a08b-ac3f57a506a8",
   "metadata": {},
   "outputs": [
    {
     "data": {
      "text/plain": [
       "[]"
      ]
     },
     "execution_count": 214,
     "metadata": {},
     "output_type": "execute_result"
    }
   ],
   "source": [
    "[col for col in ukb_tp0_cols80.columns if 'death' in col]"
   ]
  },
  {
   "cell_type": "code",
   "execution_count": 213,
   "id": "62396f97-37fa-4cf8-b8c3-8bc4d7fdd25a",
   "metadata": {},
   "outputs": [
    {
     "data": {
      "text/plain": [
       "215"
      ]
     },
     "execution_count": 213,
     "metadata": {},
     "output_type": "execute_result"
    }
   ],
   "source": [
    "len(ohe_vars)"
   ]
  },
  {
   "cell_type": "code",
   "execution_count": 141,
   "id": "6c392208-408b-49ae-b16c-07879450e3f1",
   "metadata": {},
   "outputs": [
    {
     "data": {
      "text/plain": [
       "No             401188\n",
       "Yes             91391\n",
       "Do not know      7531\n",
       "Name: loneliness_isolation_f2020_0_0, dtype: int64"
      ]
     },
     "execution_count": 141,
     "metadata": {},
     "output_type": "execute_result"
    }
   ],
   "source": [
    "ukb_tp0_cols80['loneliness_isolation_f2020_0_0'].value_counts()"
   ]
  },
  {
   "cell_type": "code",
   "execution_count": 56,
   "id": "50fd25f8-4c11-4321-af74-b607ea9344bc",
   "metadata": {},
   "outputs": [
    {
     "data": {
      "text/plain": [
       "'birth_weight_known_f120_0_0'"
      ]
     },
     "execution_count": 56,
     "metadata": {},
     "output_type": "execute_result"
    }
   ],
   "source": [
    "list1[1][]"
   ]
  },
  {
   "cell_type": "code",
   "execution_count": 43,
   "id": "a20fbcb3-1902-4f10-8bf8-5075662ea659",
   "metadata": {},
   "outputs": [
    {
     "data": {
      "text/plain": [
       "['Female', 'Male', nan]"
      ]
     },
     "execution_count": 43,
     "metadata": {},
     "output_type": "execute_result"
    }
   ],
   "source": [
    "list(ukb_tp0_cols80['sex_f31_0_0'].unique())"
   ]
  },
  {
   "cell_type": "code",
   "execution_count": 44,
   "id": "02492554-01ac-4411-aab8-5fbeeac2e4df",
   "metadata": {},
   "outputs": [
    {
     "data": {
      "text/plain": [
       "3"
      ]
     },
     "execution_count": 44,
     "metadata": {},
     "output_type": "execute_result"
    }
   ],
   "source": [
    "len(ukb_tp0_cols80['sex_f31_0_0'].unique())"
   ]
  },
  {
   "cell_type": "code",
   "execution_count": 19,
   "id": "c524b469-9e6f-4419-8fd0-473e91ce42a2",
   "metadata": {},
   "outputs": [
    {
     "data": {
      "text/html": [
       "<div>\n",
       "<style scoped>\n",
       "    .dataframe tbody tr th:only-of-type {\n",
       "        vertical-align: middle;\n",
       "    }\n",
       "\n",
       "    .dataframe tbody tr th {\n",
       "        vertical-align: top;\n",
       "    }\n",
       "\n",
       "    .dataframe thead th {\n",
       "        text-align: right;\n",
       "    }\n",
       "</style>\n",
       "<table border=\"1\" class=\"dataframe\">\n",
       "  <thead>\n",
       "    <tr style=\"text-align: right;\">\n",
       "      <th></th>\n",
       "      <th>colname</th>\n",
       "    </tr>\n",
       "  </thead>\n",
       "  <tbody>\n",
       "    <tr>\n",
       "      <th>364</th>\n",
       "      <td>mean_corpuscular_haemoglobin_f30050_0_0</td>\n",
       "    </tr>\n",
       "    <tr>\n",
       "      <th>24</th>\n",
       "      <td>place_of_birth_in_uk_north_coordinate_f129_0_0</td>\n",
       "    </tr>\n",
       "    <tr>\n",
       "      <th>155</th>\n",
       "      <td>part_of_a_multiple_birth_f1777_0_0</td>\n",
       "    </tr>\n",
       "    <tr>\n",
       "      <th>11</th>\n",
       "      <td>waist_circumference_f48_0_0</td>\n",
       "    </tr>\n",
       "    <tr>\n",
       "      <th>439</th>\n",
       "      <td>neutrophill_percentage_f30200_0_0</td>\n",
       "    </tr>\n",
       "    <tr>\n",
       "      <th>487</th>\n",
       "      <td>high_light_scatter_reticulocyte_percentage_dev...</td>\n",
       "    </tr>\n",
       "    <tr>\n",
       "      <th>626</th>\n",
       "      <td>phosphate_correction_reason_f30814_0_0</td>\n",
       "    </tr>\n",
       "    <tr>\n",
       "      <th>0</th>\n",
       "      <td>eid</td>\n",
       "    </tr>\n",
       "    <tr>\n",
       "      <th>165</th>\n",
       "      <td>fedup_feelings_f1960_0_0</td>\n",
       "    </tr>\n",
       "    <tr>\n",
       "      <th>344</th>\n",
       "      <td>red_blood_cell_erythrocyte_count_f30010_0_0</td>\n",
       "    </tr>\n",
       "    <tr>\n",
       "      <th>339</th>\n",
       "      <td>white_blood_cell_leukocyte_count_f30000_0_0</td>\n",
       "    </tr>\n",
       "    <tr>\n",
       "      <th>568</th>\n",
       "      <td>creactive_protein_f30710_0_0</td>\n",
       "    </tr>\n",
       "    <tr>\n",
       "      <th>7</th>\n",
       "      <td>seating_box_device_id_f41_0_0</td>\n",
       "    </tr>\n",
       "    <tr>\n",
       "      <th>519</th>\n",
       "      <td>alanine_aminotransferase_aliquot_f30622_0_0</td>\n",
       "    </tr>\n",
       "    <tr>\n",
       "      <th>20</th>\n",
       "      <td>time_since_interview_start_at_which_blood_pres...</td>\n",
       "    </tr>\n",
       "    <tr>\n",
       "      <th>642</th>\n",
       "      <td>total_bilirubin_correction_reason_f30844_0_0</td>\n",
       "    </tr>\n",
       "    <tr>\n",
       "      <th>223</th>\n",
       "      <td>medication_for_pain_relief_constipation_heartb...</td>\n",
       "    </tr>\n",
       "    <tr>\n",
       "      <th>548</th>\n",
       "      <td>urea_correction_reason_f30674_0_0</td>\n",
       "    </tr>\n",
       "    <tr>\n",
       "      <th>275</th>\n",
       "      <td>genetic_principal_components_f22009_0_19</td>\n",
       "    </tr>\n",
       "    <tr>\n",
       "      <th>337</th>\n",
       "      <td>average_16hour_sound_level_of_noise_pollution_...</td>\n",
       "    </tr>\n",
       "  </tbody>\n",
       "</table>\n",
       "</div>"
      ],
      "text/plain": [
       "                                               colname\n",
       "364            mean_corpuscular_haemoglobin_f30050_0_0\n",
       "24      place_of_birth_in_uk_north_coordinate_f129_0_0\n",
       "155                 part_of_a_multiple_birth_f1777_0_0\n",
       "11                         waist_circumference_f48_0_0\n",
       "439                  neutrophill_percentage_f30200_0_0\n",
       "487  high_light_scatter_reticulocyte_percentage_dev...\n",
       "626             phosphate_correction_reason_f30814_0_0\n",
       "0                                                  eid\n",
       "165                           fedup_feelings_f1960_0_0\n",
       "344        red_blood_cell_erythrocyte_count_f30010_0_0\n",
       "339        white_blood_cell_leukocyte_count_f30000_0_0\n",
       "568                       creactive_protein_f30710_0_0\n",
       "7                        seating_box_device_id_f41_0_0\n",
       "519        alanine_aminotransferase_aliquot_f30622_0_0\n",
       "20   time_since_interview_start_at_which_blood_pres...\n",
       "642       total_bilirubin_correction_reason_f30844_0_0\n",
       "223  medication_for_pain_relief_constipation_heartb...\n",
       "548                  urea_correction_reason_f30674_0_0\n",
       "275           genetic_principal_components_f22009_0_19\n",
       "337  average_16hour_sound_level_of_noise_pollution_..."
      ]
     },
     "execution_count": 19,
     "metadata": {},
     "output_type": "execute_result"
    }
   ],
   "source": [
    "cols80_df[cols80_df['colname'].isin(cols80_exc)].sample(20)"
   ]
  },
  {
   "cell_type": "code",
   "execution_count": 12,
   "id": "5659ab5a-2ec4-4804-9584-9e3d3db40f8f",
   "metadata": {},
   "outputs": [
    {
     "data": {
      "text/plain": [
       "<AxesSubplot:>"
      ]
     },
     "execution_count": 12,
     "metadata": {},
     "output_type": "execute_result"
    },
    {
     "data": {
      "image/png": "[encoded data removed]",
      "text/plain": [
       "<Figure size 432x288 with 1 Axes>"
      ]
     },
     "metadata": {
      "needs_background": "light"
     },
     "output_type": "display_data"
    }
   ],
   "source": [
    "ukb_tp0['duration_of_moderate_activity_f894_0_0'].hist(bins=50)"
   ]
  },
  {
   "cell_type": "code",
   "execution_count": 20,
   "id": "57cecc1c-d66e-4f03-a946-4d289bb29610",
   "metadata": {},
   "outputs": [
    {
     "data": {
      "text/plain": [
       "['time_since_interview_start_at_which_blood_pressure_screens_shown_f96_0_0',\n",
       " 'time_since_interview_start_at_which_blood_pressure_screens_shown_f96_0_1',\n",
       " 'time_to_complete_round_f400_0_1',\n",
       " 'time_to_complete_round_f400_0_2',\n",
       " 'number_of_times_snapbutton_pressed_f403_0_0',\n",
       " 'number_of_times_snapbutton_pressed_f403_0_1',\n",
       " 'number_of_times_snapbutton_pressed_f403_0_2',\n",
       " 'number_of_times_snapbutton_pressed_f403_0_3',\n",
       " 'number_of_times_snapbutton_pressed_f403_0_4',\n",
       " 'number_of_times_snapbutton_pressed_f403_0_5',\n",
       " 'number_of_times_snapbutton_pressed_f403_0_6',\n",
       " 'number_of_times_snapbutton_pressed_f403_0_7',\n",
       " 'number_of_times_snapbutton_pressed_f403_0_8',\n",
       " 'number_of_times_snapbutton_pressed_f403_0_9',\n",
       " 'number_of_times_snapbutton_pressed_f403_0_10',\n",
       " 'number_of_times_snapbutton_pressed_f403_0_11',\n",
       " 'length_of_time_at_current_address_f699_0_0',\n",
       " 'time_spend_outdoors_in_summer_f1050_0_0',\n",
       " 'time_spent_outdoors_in_winter_f1060_0_0',\n",
       " 'time_spent_watching_television_tv_f1070_0_0',\n",
       " 'time_spent_using_computer_f1080_0_0',\n",
       " 'time_spent_driving_f1090_0_0',\n",
       " 'daytime_dozing_sleeping_narcolepsy_f1220_0_0',\n",
       " 'lifetime_number_of_sexual_partners_f2149_0_0',\n",
       " 'mean_time_to_correctly_identify_matches_f20023_0_0',\n",
       " 'average_daytime_sound_level_of_noise_pollution_f24020_0_0',\n",
       " 'average_nighttime_sound_level_of_noise_pollution_f24022_0_0',\n",
       " 'white_blood_cell_leukocyte_count_acquisition_time_f30002_0_0',\n",
       " 'red_blood_cell_erythrocyte_count_acquisition_time_f30012_0_0',\n",
       " 'haemoglobin_concentration_acquisition_time_f30022_0_0',\n",
       " 'haematocrit_acquisition_time_f30032_0_0',\n",
       " 'mean_corpuscular_volume_acquisition_time_f30042_0_0',\n",
       " 'mean_corpuscular_haemoglobin_acquisition_time_f30052_0_0',\n",
       " 'mean_corpuscular_haemoglobin_concentration_acquisition_time_f30062_0_0',\n",
       " 'red_blood_cell_erythrocyte_distribution_width_acquisition_time_f30072_0_0',\n",
       " 'platelet_count_acquisition_time_f30082_0_0',\n",
       " 'platelet_crit_acquisition_time_f30092_0_0',\n",
       " 'mean_platelet_thrombocyte_volume_acquisition_time_f30102_0_0',\n",
       " 'platelet_distribution_width_acquisition_time_f30112_0_0',\n",
       " 'lymphocyte_count_acquisition_time_f30122_0_0',\n",
       " 'monocyte_count_acquisition_time_f30132_0_0',\n",
       " 'neutrophill_count_acquisition_time_f30142_0_0',\n",
       " 'eosinophill_count_acquisition_time_f30152_0_0',\n",
       " 'basophill_count_acquisition_time_f30162_0_0',\n",
       " 'nucleated_red_blood_cell_count_acquisition_time_f30172_0_0',\n",
       " 'lymphocyte_percentage_acquisition_time_f30182_0_0',\n",
       " 'monocyte_percentage_acquisition_time_f30192_0_0',\n",
       " 'neutrophill_percentage_acquisition_time_f30202_0_0',\n",
       " 'eosinophill_percentage_acquisition_time_f30212_0_0',\n",
       " 'basophill_percentage_acquisition_time_f30222_0_0',\n",
       " 'nucleated_red_blood_cell_percentage_acquisition_time_f30232_0_0',\n",
       " 'reticulocyte_percentage_acquisition_time_f30242_0_0',\n",
       " 'reticulocyte_count_acquisition_time_f30252_0_0',\n",
       " 'mean_reticulocyte_volume_acquisition_time_f30262_0_0',\n",
       " 'mean_sphered_cell_volume_acquisition_time_f30272_0_0',\n",
       " 'immature_reticulocyte_fraction_acquisition_time_f30282_0_0',\n",
       " 'high_light_scatter_reticulocyte_percentage_acquisition_time_f30292_0_0',\n",
       " 'high_light_scatter_reticulocyte_count_acquisition_time_f30302_0_0',\n",
       " 'microalbumin_in_urine_acquisition_time_f30502_0_0',\n",
       " 'creatinine_enzymatic_in_urine_acquisition_time_f30512_0_0',\n",
       " 'potassium_in_urine_acquisition_time_f30522_0_0',\n",
       " 'sodium_in_urine_acquisition_time_f30532_0_0']"
      ]
     },
     "execution_count": 20,
     "metadata": {},
     "output_type": "execute_result"
    }
   ],
   "source": [
    "findcols(ukb_tp0[cols80_exc],'time')"
   ]
  },
  {
   "cell_type": "code",
   "execution_count": 9,
   "id": "2a380dd7-b469-448c-ac28-5a422d82c996",
   "metadata": {},
   "outputs": [
    {
     "name": "stdout",
     "output_type": "stream",
     "text": [
      "CPU times: user 50.7 s, sys: 23.2 s, total: 1min 13s\n",
      "Wall time: 1min 4s\n"
     ]
    }
   ],
   "source": [
    "%%time\n",
    "ukb_tp0=pd.read_parquet(path+'ukb_tp0_new.parquet',columns=cols80_exc)"
   ]
  },
  {
   "cell_type": "code",
   "execution_count": 33,
   "id": "241c4da2-b9d7-4411-ba38-763ca579e7d5",
   "metadata": {},
   "outputs": [
    {
     "name": "stderr",
     "output_type": "stream",
     "text": [
      "<ipython-input-33-763ca480d315>:1: SettingWithCopyWarning: \n",
      "A value is trying to be set on a copy of a slice from a DataFrame\n",
      "\n",
      "See the caveats in the documentation: https://pandas.pydata.org/pandas-docs/stable/user_guide/indexing.html#returning-a-view-versus-a-copy\n",
      "  ukb_tp0['ever_had_cervical_smear_test_f2694_0_0'][(ukb_tp0['ever_had_cervical_smear_test_f2694_0_0']=='nan')]=np.NaN\n"
     ]
    }
   ],
   "source": [
    "ukb_tp0['ever_had_cervical_smear_test_f2694_0_0'][(ukb_tp0['ever_had_cervical_smear_test_f2694_0_0']=='nan')]=np.NaN"
   ]
  },
  {
   "cell_type": "code",
   "execution_count": 34,
   "id": "424bee9d-8a8f-41e5-a817-a12886cef79f",
   "metadata": {},
   "outputs": [
    {
     "data": {
      "text/plain": [
       "272871"
      ]
     },
     "execution_count": 34,
     "metadata": {},
     "output_type": "execute_result"
    }
   ],
   "source": [
    "ukb_tp0['ever_had_cervical_smear_test_f2694_0_0'].count()"
   ]
  },
  {
   "cell_type": "code",
   "execution_count": 26,
   "id": "1cefe73a-11d7-4138-a5f1-b22b989b150e",
   "metadata": {},
   "outputs": [],
   "source": []
  },
  {
   "cell_type": "code",
   "execution_count": 7,
   "id": "554a4b12-0d6f-486e-aa59-7e73ab82c68f",
   "metadata": {},
   "outputs": [],
   "source": []
  },
  {
   "cell_type": "code",
   "execution_count": 6,
   "id": "6682510c-5389-4b77-8a5e-f8d55bd53919",
   "metadata": {},
   "outputs": [],
   "source": []
  },
  {
   "cell_type": "code",
   "execution_count": 8,
   "id": "32b5a970-f523-467b-b9ec-d6bb5b67f29a",
   "metadata": {},
   "outputs": [
    {
     "ename": "TypeError",
     "evalue": "__cinit__() got an unexpected keyword argument 'columns'",
     "output_type": "error",
     "traceback": [
      "\u001b[0;31m---------------------------------------------------------------------------\u001b[0m",
      "\u001b[0;31mTypeError\u001b[0m                                 Traceback (most recent call last)",
      "\u001b[0;32m<ipython-input-8-3c96fef79e4a>\u001b[0m in \u001b[0;36m<module>\u001b[0;34m\u001b[0m\n\u001b[0;32m----> 1\u001b[0;31m \u001b[0mukb_tp0\u001b[0m\u001b[0;34m.\u001b[0m\u001b[0mto_parquet\u001b[0m\u001b[0;34m(\u001b[0m\u001b[0mpath\u001b[0m\u001b[0;34m+\u001b[0m\u001b[0;34m'ukb_tp0_cols80.parquet'\u001b[0m\u001b[0;34m,\u001b[0m\u001b[0mcolumns\u001b[0m\u001b[0;34m=\u001b[0m\u001b[0mcols80\u001b[0m\u001b[0;34m)\u001b[0m\u001b[0;34m\u001b[0m\u001b[0;34m\u001b[0m\u001b[0m\n\u001b[0m",
      "\u001b[0;32m~/opt/anaconda3/lib/python3.8/site-packages/pandas/util/_decorators.py\u001b[0m in \u001b[0;36mwrapper\u001b[0;34m(*args, **kwargs)\u001b[0m\n\u001b[1;32m    197\u001b[0m                 \u001b[0;32melse\u001b[0m\u001b[0;34m:\u001b[0m\u001b[0;34m\u001b[0m\u001b[0;34m\u001b[0m\u001b[0m\n\u001b[1;32m    198\u001b[0m                     \u001b[0mkwargs\u001b[0m\u001b[0;34m[\u001b[0m\u001b[0mnew_arg_name\u001b[0m\u001b[0;34m]\u001b[0m \u001b[0;34m=\u001b[0m \u001b[0mnew_arg_value\u001b[0m\u001b[0;34m\u001b[0m\u001b[0;34m\u001b[0m\u001b[0m\n\u001b[0;32m--> 199\u001b[0;31m             \u001b[0;32mreturn\u001b[0m \u001b[0mfunc\u001b[0m\u001b[0;34m(\u001b[0m\u001b[0;34m*\u001b[0m\u001b[0margs\u001b[0m\u001b[0;34m,\u001b[0m \u001b[0;34m**\u001b[0m\u001b[0mkwargs\u001b[0m\u001b[0;34m)\u001b[0m\u001b[0;34m\u001b[0m\u001b[0;34m\u001b[0m\u001b[0m\n\u001b[0m\u001b[1;32m    200\u001b[0m \u001b[0;34m\u001b[0m\u001b[0m\n\u001b[1;32m    201\u001b[0m         \u001b[0;32mreturn\u001b[0m \u001b[0mcast\u001b[0m\u001b[0;34m(\u001b[0m\u001b[0mF\u001b[0m\u001b[0;34m,\u001b[0m \u001b[0mwrapper\u001b[0m\u001b[0;34m)\u001b[0m\u001b[0;34m\u001b[0m\u001b[0;34m\u001b[0m\u001b[0m\n",
      "\u001b[0;32m~/opt/anaconda3/lib/python3.8/site-packages/pandas/core/frame.py\u001b[0m in \u001b[0;36mto_parquet\u001b[0;34m(self, path, engine, compression, index, partition_cols, storage_options, **kwargs)\u001b[0m\n\u001b[1;32m   2453\u001b[0m         \u001b[0;32mfrom\u001b[0m \u001b[0mpandas\u001b[0m\u001b[0;34m.\u001b[0m\u001b[0mio\u001b[0m\u001b[0;34m.\u001b[0m\u001b[0mparquet\u001b[0m \u001b[0;32mimport\u001b[0m \u001b[0mto_parquet\u001b[0m\u001b[0;34m\u001b[0m\u001b[0;34m\u001b[0m\u001b[0m\n\u001b[1;32m   2454\u001b[0m \u001b[0;34m\u001b[0m\u001b[0m\n\u001b[0;32m-> 2455\u001b[0;31m         return to_parquet(\n\u001b[0m\u001b[1;32m   2456\u001b[0m             \u001b[0mself\u001b[0m\u001b[0;34m,\u001b[0m\u001b[0;34m\u001b[0m\u001b[0;34m\u001b[0m\u001b[0m\n\u001b[1;32m   2457\u001b[0m             \u001b[0mpath\u001b[0m\u001b[0;34m,\u001b[0m\u001b[0;34m\u001b[0m\u001b[0;34m\u001b[0m\u001b[0m\n",
      "\u001b[0;32m~/opt/anaconda3/lib/python3.8/site-packages/pandas/io/parquet.py\u001b[0m in \u001b[0;36mto_parquet\u001b[0;34m(df, path, engine, compression, index, storage_options, partition_cols, **kwargs)\u001b[0m\n\u001b[1;32m    388\u001b[0m     \u001b[0mpath_or_buf\u001b[0m\u001b[0;34m:\u001b[0m \u001b[0mFilePathOrBuffer\u001b[0m \u001b[0;34m=\u001b[0m \u001b[0mio\u001b[0m\u001b[0;34m.\u001b[0m\u001b[0mBytesIO\u001b[0m\u001b[0;34m(\u001b[0m\u001b[0;34m)\u001b[0m \u001b[0;32mif\u001b[0m \u001b[0mpath\u001b[0m \u001b[0;32mis\u001b[0m \u001b[0;32mNone\u001b[0m \u001b[0;32melse\u001b[0m \u001b[0mpath\u001b[0m\u001b[0;34m\u001b[0m\u001b[0;34m\u001b[0m\u001b[0m\n\u001b[1;32m    389\u001b[0m \u001b[0;34m\u001b[0m\u001b[0m\n\u001b[0;32m--> 390\u001b[0;31m     impl.write(\n\u001b[0m\u001b[1;32m    391\u001b[0m         \u001b[0mdf\u001b[0m\u001b[0;34m,\u001b[0m\u001b[0;34m\u001b[0m\u001b[0;34m\u001b[0m\u001b[0m\n\u001b[1;32m    392\u001b[0m         \u001b[0mpath_or_buf\u001b[0m\u001b[0;34m,\u001b[0m\u001b[0;34m\u001b[0m\u001b[0;34m\u001b[0m\u001b[0m\n",
      "\u001b[0;32m~/opt/anaconda3/lib/python3.8/site-packages/pandas/io/parquet.py\u001b[0m in \u001b[0;36mwrite\u001b[0;34m(self, df, path, compression, index, storage_options, partition_cols, **kwargs)\u001b[0m\n\u001b[1;32m    171\u001b[0m             \u001b[0;32melse\u001b[0m\u001b[0;34m:\u001b[0m\u001b[0;34m\u001b[0m\u001b[0;34m\u001b[0m\u001b[0m\n\u001b[1;32m    172\u001b[0m                 \u001b[0;31m# write to single output file\u001b[0m\u001b[0;34m\u001b[0m\u001b[0;34m\u001b[0m\u001b[0;34m\u001b[0m\u001b[0m\n\u001b[0;32m--> 173\u001b[0;31m                 self.api.parquet.write_table(\n\u001b[0m\u001b[1;32m    174\u001b[0m                     \u001b[0mtable\u001b[0m\u001b[0;34m,\u001b[0m \u001b[0mpath_or_handle\u001b[0m\u001b[0;34m,\u001b[0m \u001b[0mcompression\u001b[0m\u001b[0;34m=\u001b[0m\u001b[0mcompression\u001b[0m\u001b[0;34m,\u001b[0m \u001b[0;34m**\u001b[0m\u001b[0mkwargs\u001b[0m\u001b[0;34m\u001b[0m\u001b[0;34m\u001b[0m\u001b[0m\n\u001b[1;32m    175\u001b[0m                 )\n",
      "\u001b[0;32m~/opt/anaconda3/lib/python3.8/site-packages/pyarrow/parquet.py\u001b[0m in \u001b[0;36mwrite_table\u001b[0;34m(table, where, row_group_size, version, use_dictionary, compression, write_statistics, use_deprecated_int96_timestamps, coerce_timestamps, allow_truncated_timestamps, data_page_size, flavor, filesystem, compression_level, use_byte_stream_split, data_page_version, use_compliant_nested_type, **kwargs)\u001b[0m\n\u001b[1;32m   1968\u001b[0m     \u001b[0muse_int96\u001b[0m \u001b[0;34m=\u001b[0m \u001b[0muse_deprecated_int96_timestamps\u001b[0m\u001b[0;34m\u001b[0m\u001b[0;34m\u001b[0m\u001b[0m\n\u001b[1;32m   1969\u001b[0m     \u001b[0;32mtry\u001b[0m\u001b[0;34m:\u001b[0m\u001b[0;34m\u001b[0m\u001b[0;34m\u001b[0m\u001b[0m\n\u001b[0;32m-> 1970\u001b[0;31m         with ParquetWriter(\n\u001b[0m\u001b[1;32m   1971\u001b[0m                 \u001b[0mwhere\u001b[0m\u001b[0;34m,\u001b[0m \u001b[0mtable\u001b[0m\u001b[0;34m.\u001b[0m\u001b[0mschema\u001b[0m\u001b[0;34m,\u001b[0m\u001b[0;34m\u001b[0m\u001b[0;34m\u001b[0m\u001b[0m\n\u001b[1;32m   1972\u001b[0m                 \u001b[0mfilesystem\u001b[0m\u001b[0;34m=\u001b[0m\u001b[0mfilesystem\u001b[0m\u001b[0;34m,\u001b[0m\u001b[0;34m\u001b[0m\u001b[0;34m\u001b[0m\u001b[0m\n",
      "\u001b[0;32m~/opt/anaconda3/lib/python3.8/site-packages/pyarrow/parquet.py\u001b[0m in \u001b[0;36m__init__\u001b[0;34m(self, where, schema, filesystem, flavor, version, use_dictionary, compression, write_statistics, use_deprecated_int96_timestamps, compression_level, use_byte_stream_split, writer_engine_version, data_page_version, use_compliant_nested_type, **options)\u001b[0m\n\u001b[1;32m    653\u001b[0m         \u001b[0mself\u001b[0m\u001b[0;34m.\u001b[0m\u001b[0m_metadata_collector\u001b[0m \u001b[0;34m=\u001b[0m \u001b[0moptions\u001b[0m\u001b[0;34m.\u001b[0m\u001b[0mpop\u001b[0m\u001b[0;34m(\u001b[0m\u001b[0;34m'metadata_collector'\u001b[0m\u001b[0;34m,\u001b[0m \u001b[0;32mNone\u001b[0m\u001b[0;34m)\u001b[0m\u001b[0;34m\u001b[0m\u001b[0;34m\u001b[0m\u001b[0m\n\u001b[1;32m    654\u001b[0m         \u001b[0mengine_version\u001b[0m \u001b[0;34m=\u001b[0m \u001b[0;34m'V2'\u001b[0m\u001b[0;34m\u001b[0m\u001b[0;34m\u001b[0m\u001b[0m\n\u001b[0;32m--> 655\u001b[0;31m         self.writer = _parquet.ParquetWriter(\n\u001b[0m\u001b[1;32m    656\u001b[0m             \u001b[0msink\u001b[0m\u001b[0;34m,\u001b[0m \u001b[0mschema\u001b[0m\u001b[0;34m,\u001b[0m\u001b[0;34m\u001b[0m\u001b[0;34m\u001b[0m\u001b[0m\n\u001b[1;32m    657\u001b[0m             \u001b[0mversion\u001b[0m\u001b[0;34m=\u001b[0m\u001b[0mversion\u001b[0m\u001b[0;34m,\u001b[0m\u001b[0;34m\u001b[0m\u001b[0;34m\u001b[0m\u001b[0m\n",
      "\u001b[0;32m~/opt/anaconda3/lib/python3.8/site-packages/pyarrow/_parquet.pyx\u001b[0m in \u001b[0;36mpyarrow._parquet.ParquetWriter.__cinit__\u001b[0;34m()\u001b[0m\n",
      "\u001b[0;31mTypeError\u001b[0m: __cinit__() got an unexpected keyword argument 'columns'"
     ]
    }
   ],
   "source": [
    "ukb_tp0.to_parquet(path+'ukb_tp0_cols80.parquet',columns=cols80)"
   ]
  },
  {
   "cell_type": "code",
   "execution_count": null,
   "id": "e5fa9bd8-4be5-4920-ad66-54b16f657313",
   "metadata": {},
   "outputs": [],
   "source": [
    "%%time\n",
    "ukb_tp0[cols80_exc].to_parquet(path+'ukb_tp0_cols80.parquet')"
   ]
  },
  {
   "cell_type": "code",
   "execution_count": null,
   "id": "2a6f7828-d040-45ae-93c1-f2ea91152103",
   "metadata": {},
   "outputs": [],
   "source": [
    "%%time\n",
    "ukb_tp0[cols80].shape"
   ]
  },
  {
   "cell_type": "code",
   "execution_count": null,
   "id": "3bbf83b5-52e8-44b1-80f1-2d12b3c4fea7",
   "metadata": {},
   "outputs": [],
   "source": []
  }
 ],
 "metadata": {
  "kernelspec": {
   "display_name": "Python 3",
   "language": "python",
   "name": "python3"
  },
  "language_info": {
   "codemirror_mode": {
    "name": "ipython",
    "version": 3
   },
   "file_extension": ".py",
   "mimetype": "text/x-python",
   "name": "python",
   "nbconvert_exporter": "python",
   "pygments_lexer": "ipython3",
   "version": "3.8.8"
  }
 },
 "nbformat": 4,
 "nbformat_minor": 5
}
