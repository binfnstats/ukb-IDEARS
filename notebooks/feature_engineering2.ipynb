{
 "cells": [
  {
   "cell_type": "code",
   "execution_count": 1,
   "id": "a7ac0854-72de-4118-b32a-d44a77655456",
   "metadata": {},
   "outputs": [],
   "source": [
    "#!pip install icd10-cm"
   ]
  },
  {
   "cell_type": "code",
   "execution_count": 1,
   "id": "40cc3602-cce0-4d93-899a-1386fe4d6e7d",
   "metadata": {},
   "outputs": [],
   "source": [
    "import pandas as pd\n",
    "import numpy as np\n",
    "import re\n",
    "import warnings\n",
    "import datetime as dt\n",
    "import icd10\n",
    "warnings.filterwarnings('ignore')\n",
    "path=\"../../Data/\"\n",
    "\n",
    "'''\n",
    "Diseases to map\n",
    "'''\n",
    "\n",
    "\n",
    "year=2021\n",
    "month=1\n",
    "day=1\n",
    "\n",
    "inpatient_update_file='ukb_ICD10.parquet'\n",
    "\n",
    "\n",
    "def returndesc(string):\n",
    "    '''\n",
    "    functions to apply the icd10 mapping and return disease and disease block\n",
    "    '''\n",
    "    code=icd10.find(str(string))\n",
    "    if code:\n",
    "        desc=code.description\n",
    "    else:\n",
    "        desc=string\n",
    "    return desc\n",
    "\n",
    "def returndescblock(string):\n",
    "    \n",
    "    try:\n",
    "        code=icd10.find(str(string))\n",
    "        desc_block=str(code.block_description)\n",
    "        \n",
    "        return desc_block\n",
    "    except:\n",
    "        pass"
   ]
  },
  {
   "cell_type": "code",
   "execution_count": 2,
   "id": "fa07cb1d-ee77-4c51-8561-2ce914d7cfe9",
   "metadata": {},
   "outputs": [],
   "source": [
    "def findcols(df,string):\n",
    "    return [col for col in df if string in col]"
   ]
  },
  {
   "cell_type": "code",
   "execution_count": 3,
   "id": "72898637-505f-41a3-b54e-f5802ea94e7d",
   "metadata": {},
   "outputs": [],
   "source": [
    "inpatient_update=pd.read_parquet('%s%s' % (path,inpatient_update_file))"
   ]
  },
  {
   "cell_type": "code",
   "execution_count": 21,
   "id": "6027e4fc-a701-4a4f-86f7-bdef8199a576",
   "metadata": {},
   "outputs": [
    {
     "data": {
      "text/plain": [
       "0         72.442847\n",
       "1         54.357974\n",
       "2         74.490760\n",
       "3         76.931554\n",
       "4         63.162218\n",
       "            ...    \n",
       "502443    80.468172\n",
       "502444    74.169062\n",
       "502445    52.683094\n",
       "502446    54.029432\n",
       "502447          NaN\n",
       "Name: Age_Today, Length: 502448, dtype: float64"
      ]
     },
     "execution_count": 21,
     "metadata": {},
     "output_type": "execute_result"
    }
   ],
   "source": [
    "inpatient_update['Age_Today']"
   ]
  },
  {
   "cell_type": "code",
   "execution_count": 20,
   "id": "20fd21d9-1b38-46e2-a30a-cc6a3c257136",
   "metadata": {},
   "outputs": [],
   "source": [
    "inpatient_update['Age_Today']=\\\n",
    "inpatient_update['age_when_attended_assessment_centre_f21003_0_0']+\\\n",
    "(dt.datetime(year, month, day)-pd.to_datetime(inpatient_update['date_of_attending_assessment_centre_f53_0_0'])).dt.days/365.25"
   ]
  },
  {
   "cell_type": "code",
   "execution_count": 22,
   "id": "3d15f785-7c21-4056-b5d4-cabe2ad28a7b",
   "metadata": {},
   "outputs": [],
   "source": [
    "\n",
    "inpatient_update['date_of_attending_assessment_centre_f53_0_0']=\\\n",
    "pd.to_datetime(inpatient_update['date_of_attending_assessment_centre_f53_0_0'])\n",
    "inpatient_update['eid']=inpatient_update['eid'].astype(str)"
   ]
  },
  {
   "cell_type": "code",
   "execution_count": 23,
   "id": "ee8eae44-1329-4c89-8658-20af7baf5c0e",
   "metadata": {},
   "outputs": [
    {
     "name": "stdout",
     "output_type": "stream",
     "text": [
      "CPU times: user 1min 58s, sys: 13.6 s, total: 2min 11s\n",
      "Wall time: 2min 18s\n"
     ]
    }
   ],
   "source": [
    "%%time\n",
    "cols1=[col for col in inpatient_update.columns if '41270' in col or 'eid' in col]\n",
    "cols2=[col for col in inpatient_update.columns if '41280' in col or 'eid' in col]\n",
    "\n",
    "df_dis=inpatient_update[cols1]\n",
    "df_date=inpatient_update[cols2]\n",
    "\n",
    "df_dis = pd.melt(df_dis, id_vars='eid', value_name='VALUE')\n",
    "df_dis=df_dis[pd.notnull(df_dis['VALUE'])]\n",
    "\n",
    "df_dis.columns=['eid','variable','disease']\n",
    "df_dis['disease']=df_dis['disease'].str.replace('b','')\n",
    "\n",
    "'''\n",
    "align variables for merge\n",
    "'''\n",
    "df_dis['disease']=df_dis['disease'].str.replace(\"'\",\"\")\n",
    "df_dis['variable']=df_dis['variable'].str.replace('diagnoses_icd10_','')\n",
    "\n",
    "df_date = pd.melt(df_date, id_vars='eid', value_name='VALUE')\n",
    "df_date=df_date[pd.notnull(df_date['VALUE'])]\n",
    "df_date['variable']=df_date['variable'].str.replace('41280','41270')\n",
    "df_date['variable']=df_date['variable'].str.replace('date_of_first_inpatient_diagnosis_icd10_','')\n",
    "\n",
    "df_date.columns=['eid','variable','dis_date']\n",
    "\n",
    "'''\n",
    "align variables for merge\n",
    "'''\n",
    "df_date['dis_date']=df_date['dis_date'].str.replace('b','')\n",
    "df_date['dis_date']=df_date['dis_date'].str.replace(\"'\",\"\")\n",
    "df_date['dis_date']=pd.to_datetime(df_date['dis_date'])\n",
    "\n",
    "df_dis_date=pd.merge(df_dis,df_date,on=['eid','variable'],how='left')\n",
    "\n",
    "df_dis_date=pd.merge(df_dis_date,inpatient_update[['eid','Age_Today','date_of_attending_assessment_centre_f53_0_0']])\n",
    "df_dis_date['Age_disease']=df_dis_date['Age_Today']-\\\n",
    "(dt.datetime(year, month, day)-pd.to_datetime(df_dis_date['dis_date']))\\\n",
    ".dt.days/365.25\n",
    "\n",
    "df_dis_date['disease_name']=df_dis_date['disease'].apply(returndesc)\n",
    "df_dis_date['disease_block']=df_dis_date['disease'].apply(returndescblock)"
   ]
  },
  {
   "cell_type": "code",
   "execution_count": 24,
   "id": "d1012c73-d6af-4a15-939e-8ac594f94b77",
   "metadata": {},
   "outputs": [],
   "source": [
    "df_dis_date.rename(columns={'date_of_attending_assessment_centre_f53_0_0':'date_assess','dis_date':'disease_date'},inplace=True)"
   ]
  },
  {
   "cell_type": "code",
   "execution_count": 25,
   "id": "74fe49ce-74fe-4326-aab8-7d597262c38c",
   "metadata": {},
   "outputs": [],
   "source": [
    "mask_bef=(df_dis_date['disease_date']<df_dis_date['date_assess'])\n",
    "\n",
    "mask_aft=(df_dis_date['disease_date']>=df_dis_date['date_assess']+pd.offsets.DateOffset(years=2))&\\\n",
    "(df_dis_date['disease_date']<=df_dis_date['date_assess']+pd.offsets.DateOffset(years=10))\n",
    "\n",
    "mask_10y=(df_dis_date['disease_date']>df_dis_date['date_assess']+pd.offsets.DateOffset(years=10))\n",
    "\n",
    "df_dis_date['dis_bef']=0\n",
    "df_dis_date['dis_bef'][mask_bef]=1\n",
    "\n",
    "df_dis_date['dis_aft']=0\n",
    "df_dis_date['dis_aft'][mask_aft]=1\n",
    "\n",
    "df_dis_date['dis_exc']=0\n",
    "df_dis_date['dis_exc'][mask_10y|mask_bef]=1\n",
    "\n",
    "df_dis_date['total_bef']=df_dis_date.groupby('disease')['dis_bef'].transform('sum')\n",
    "df_dis_date['total_aft']=df_dis_date.groupby('disease')['dis_aft'].transform('sum')"
   ]
  },
  {
   "cell_type": "code",
   "execution_count": 26,
   "id": "4c46ac3c-cc3d-4029-90e5-49ee492180c0",
   "metadata": {},
   "outputs": [
    {
     "data": {
      "text/plain": [
       "3429"
      ]
     },
     "execution_count": 26,
     "metadata": {},
     "output_type": "execute_result"
    }
   ],
   "source": [
    "df_dis_date[(df_dis_date['disease_name'].str.contains('dementia'))]['eid'].nunique()"
   ]
  },
  {
   "cell_type": "code",
   "execution_count": 27,
   "id": "50fa260b-56bb-4277-bbaf-512012d81449",
   "metadata": {},
   "outputs": [
    {
     "data": {
      "text/plain": [
       "502448"
      ]
     },
     "execution_count": 27,
     "metadata": {},
     "output_type": "execute_result"
    }
   ],
   "source": [
    "inpatient_update['eid'].nunique()"
   ]
  },
  {
   "cell_type": "code",
   "execution_count": 28,
   "id": "4a77f468-3377-47bb-b411-471007467b3d",
   "metadata": {},
   "outputs": [],
   "source": [
    "df_dis_date=df_dis_date[(df_dis_date['total_bef']>200)]"
   ]
  },
  {
   "cell_type": "code",
   "execution_count": 29,
   "id": "48fda444-f1b9-431e-b9c4-aff9a7ddea68",
   "metadata": {},
   "outputs": [],
   "source": [
    "df_dis_date.to_parquet(path+'df_dis_date.parquet')"
   ]
  },
  {
   "cell_type": "code",
   "execution_count": null,
   "id": "9725280b-58e9-4daf-8d72-247263aa3b4a",
   "metadata": {},
   "outputs": [],
   "source": [
    "df_dis_date[()]"
   ]
  },
  {
   "cell_type": "code",
   "execution_count": 31,
   "id": "3ae2bbae-68db-4840-bdbc-db48ce4a7486",
   "metadata": {},
   "outputs": [
    {
     "name": "stdout",
     "output_type": "stream",
     "text": [
      "CPU times: user 8.68 s, sys: 12.3 s, total: 21 s\n",
      "Wall time: 25 s\n"
     ]
    }
   ],
   "source": [
    "%%time\n",
    "dis_ohe_icd10=pd.DataFrame(df_dis_date.groupby(['eid','disease_name'])['dis_bef'].sum().unstack('disease_name')).reset_index()"
   ]
  },
  {
   "cell_type": "code",
   "execution_count": 32,
   "id": "57e34d08-53bf-4e11-ad11-d68fc01eae7b",
   "metadata": {},
   "outputs": [],
   "source": [
    "dis_ohe_icd10=pd.merge(inpatient_update['eid'],dis_ohe_icd10,how='left',on='eid')\n",
    "dis_ohe_icd10.fillna(0,inplace=True)"
   ]
  },
  {
   "cell_type": "code",
   "execution_count": 33,
   "id": "d7144995-cc54-4d34-bda2-95ac3d1c6d57",
   "metadata": {},
   "outputs": [],
   "source": [
    " #dis_ohe_icd10['total_dis']=dis_ohe_icd10[[col for col in dis_ohe_icd10.columns]].sum(axis=1)"
   ]
  },
  {
   "cell_type": "code",
   "execution_count": 34,
   "id": "19a4f2eb-8f1d-4eec-817c-23674b820125",
   "metadata": {},
   "outputs": [],
   "source": [
    "totaldis=pd.DataFrame(df_dis_date.groupby('eid')['dis_bef'].sum()).reset_index()\n",
    "totaldis.columns=['eid','total_dis']\n",
    "\n",
    "disblock=pd.DataFrame(df_dis_date.groupby(['eid','disease_block'])['dis_bef'].max().unstack('disease_block')).reset_index()\n",
    "disblock.fillna(0,inplace=True)"
   ]
  },
  {
   "cell_type": "code",
   "execution_count": 35,
   "id": "1cbdeee6-87ba-4dde-9ace-fd40f624575a",
   "metadata": {},
   "outputs": [
    {
     "data": {
      "text/html": [
       "<div>\n",
       "<style scoped>\n",
       "    .dataframe tbody tr th:only-of-type {\n",
       "        vertical-align: middle;\n",
       "    }\n",
       "\n",
       "    .dataframe tbody tr th {\n",
       "        vertical-align: top;\n",
       "    }\n",
       "\n",
       "    .dataframe thead th {\n",
       "        text-align: right;\n",
       "    }\n",
       "</style>\n",
       "<table border=\"1\" class=\"dataframe\">\n",
       "  <thead>\n",
       "    <tr style=\"text-align: right;\">\n",
       "      <th></th>\n",
       "      <th>eid</th>\n",
       "      <th>total_dis</th>\n",
       "    </tr>\n",
       "  </thead>\n",
       "  <tbody>\n",
       "    <tr>\n",
       "      <th>0</th>\n",
       "      <td>1000014</td>\n",
       "      <td>1</td>\n",
       "    </tr>\n",
       "    <tr>\n",
       "      <th>1</th>\n",
       "      <td>1000023</td>\n",
       "      <td>0</td>\n",
       "    </tr>\n",
       "    <tr>\n",
       "      <th>2</th>\n",
       "      <td>1000030</td>\n",
       "      <td>1</td>\n",
       "    </tr>\n",
       "    <tr>\n",
       "      <th>3</th>\n",
       "      <td>1000041</td>\n",
       "      <td>5</td>\n",
       "    </tr>\n",
       "    <tr>\n",
       "      <th>4</th>\n",
       "      <td>1000062</td>\n",
       "      <td>9</td>\n",
       "    </tr>\n",
       "    <tr>\n",
       "      <th>...</th>\n",
       "      <td>...</td>\n",
       "      <td>...</td>\n",
       "    </tr>\n",
       "    <tr>\n",
       "      <th>432690</th>\n",
       "      <td>6025185</td>\n",
       "      <td>7</td>\n",
       "    </tr>\n",
       "    <tr>\n",
       "      <th>432691</th>\n",
       "      <td>6025194</td>\n",
       "      <td>5</td>\n",
       "    </tr>\n",
       "    <tr>\n",
       "      <th>432692</th>\n",
       "      <td>6025203</td>\n",
       "      <td>1</td>\n",
       "    </tr>\n",
       "    <tr>\n",
       "      <th>432693</th>\n",
       "      <td>6025211</td>\n",
       "      <td>1</td>\n",
       "    </tr>\n",
       "    <tr>\n",
       "      <th>432694</th>\n",
       "      <td>6025244</td>\n",
       "      <td>0</td>\n",
       "    </tr>\n",
       "  </tbody>\n",
       "</table>\n",
       "<p>432695 rows × 2 columns</p>\n",
       "</div>"
      ],
      "text/plain": [
       "            eid  total_dis\n",
       "0       1000014          1\n",
       "1       1000023          0\n",
       "2       1000030          1\n",
       "3       1000041          5\n",
       "4       1000062          9\n",
       "...         ...        ...\n",
       "432690  6025185          7\n",
       "432691  6025194          5\n",
       "432692  6025203          1\n",
       "432693  6025211          1\n",
       "432694  6025244          0\n",
       "\n",
       "[432695 rows x 2 columns]"
      ]
     },
     "execution_count": 35,
     "metadata": {},
     "output_type": "execute_result"
    }
   ],
   "source": [
    "totaldis"
   ]
  },
  {
   "cell_type": "code",
   "execution_count": 36,
   "id": "7d75bdcb-fec3-419b-9f6c-242b8d52b47b",
   "metadata": {},
   "outputs": [],
   "source": [
    "dis_ohe_icd10=pd.merge(dis_ohe_icd10,disblock,how='left',on='eid')\n",
    "dis_ohe_icd10=pd.merge(dis_ohe_icd10,totaldis,how='left',on='eid')\n",
    "dis_ohe_icd10.fillna(0,inplace=True)"
   ]
  },
  {
   "cell_type": "code",
   "execution_count": 37,
   "id": "c8935f9c-c679-466e-97bd-a952b5228258",
   "metadata": {},
   "outputs": [
    {
     "data": {
      "text/plain": [
       "['total_dis']"
      ]
     },
     "execution_count": 37,
     "metadata": {},
     "output_type": "execute_result"
    }
   ],
   "source": [
    "findcols(dis_ohe_icd10,'total_dis')"
   ]
  },
  {
   "cell_type": "code",
   "execution_count": 38,
   "id": "73bfbf83-ded2-4f36-9125-70428b2c09c1",
   "metadata": {},
   "outputs": [],
   "source": [
    "dis_ohe_icd10.to_parquet(path+'dis_ohe_icd10_20210924.parquet')"
   ]
  },
  {
   "cell_type": "code",
   "execution_count": null,
   "id": "57ce29aa-04b5-4f72-88f3-55319bc52c82",
   "metadata": {},
   "outputs": [],
   "source": []
  }
 ],
 "metadata": {
  "kernelspec": {
   "display_name": "Python 3",
   "language": "python",
   "name": "python3"
  },
  "language_info": {
   "codemirror_mode": {
    "name": "ipython",
    "version": 3
   },
   "file_extension": ".py",
   "mimetype": "text/x-python",
   "name": "python",
   "nbconvert_exporter": "python",
   "pygments_lexer": "ipython3",
   "version": "3.8.8"
  }
 },
 "nbformat": 4,
 "nbformat_minor": 5
}
