{
 "cells": [
  {
   "cell_type": "code",
   "execution_count": 8,
   "id": "4bc4e0b5-0549-4ae0-bf51-f7b08784be5b",
   "metadata": {},
   "outputs": [],
   "source": [
    "import pandas as pd\n",
    "import numpy as np\n",
    "\n",
    "import os\n",
    "path=\"../../Data/\"\n",
    "import numpy as np\n",
    "import re\n",
    "import datetime as dt"
   ]
  },
  {
   "cell_type": "code",
   "execution_count": 9,
   "id": "d2844366-7e9c-4965-9665-5fe8c063e39d",
   "metadata": {},
   "outputs": [],
   "source": [
    "keycols=['eid','date_of_attending_assessment_centre_f53_0_0','age_when_attended_assessment_centre_f21003_0_0']"
   ]
  },
  {
   "cell_type": "code",
   "execution_count": 10,
   "id": "6b5d083c-bd81-4f18-8858-95d245f50fb0",
   "metadata": {},
   "outputs": [],
   "source": [
    "def findcols(df,string):\n",
    "    return [col for col in df if string in col]"
   ]
  },
  {
   "cell_type": "code",
   "execution_count": 11,
   "id": "ed44f3b3-e256-486a-a893-657bee020bd2",
   "metadata": {},
   "outputs": [],
   "source": [
    "def convert_null(df):\n",
    "    for col in df.columns:\n",
    "        mask=(df[col]=='Prefer not to answer')|(df[col]=='nan')\n",
    "        df[col][mask]=np.NaN\n",
    "    return df"
   ]
  },
  {
   "cell_type": "code",
   "execution_count": 12,
   "id": "47f24abd-2266-4d78-9014-924f3479cc03",
   "metadata": {},
   "outputs": [],
   "source": [
    "def onehotencoder(df,cols,excwords,maxrecs=10,mincount=0.8):\n",
    "    \n",
    "    #create nulls where unknown for future imputation\n",
    "    for col in df.columns:\n",
    "        mask_exc=(df[col].isin(excwords))\n",
    "        df[col][mask_exc]=np.nan  \n",
    "    ohe_cols=\\\n",
    "    [col for col in cols if len(df[col].value_counts())<maxrecs\n",
    "     and df[col].count()/df[col].shape[0]>mincount]\n",
    "    \n",
    "    print(r'Total ohe variables = %0.0f ' % (len(ohe_cols)))\n",
    "        \n",
    "    df_ohe_cols=df[ohe_cols]\n",
    "         \n",
    "    df_out=pd.get_dummies(df_ohe_cols, prefix=df_ohe_cols.columns,\n",
    "               columns=df_ohe_cols.columns)\n",
    "       \n",
    "    df_out['eid']=df['eid'].tolist()\n",
    "    \n",
    "    return df_out"
   ]
  },
  {
   "cell_type": "code",
   "execution_count": 13,
   "id": "4520cfa8-fe8f-44ad-a472-717e21cc181c",
   "metadata": {},
   "outputs": [],
   "source": [
    "excwords=['Prefer not to answer','nan','None of the above']\n",
    "speccols=['sex_f31','average_total_household_income_before_tax_f738','usual_walking_pace_f924',\n",
    " 'frequency_of_friendfamily_visits_f1031','drive_faster_than_motorway_speed_limit_f1100',\n",
    "          'weekly_usage_of_mobile_phone_in_last_3_months_f1120','qualifications_f6138',\n",
    "         'gender','avgincome','walkspeed','freqfriendfamily','faster_mot_speed','weekly_mobphone_mins',\n",
    "          'qualif_score','APOE4_Carriers']"
   ]
  },
  {
   "cell_type": "code",
   "execution_count": 14,
   "id": "767458c5-5705-449b-9888-dd2f60e60132",
   "metadata": {},
   "outputs": [
    {
     "ename": "NameError",
     "evalue": "name 'ukb_tp0_cols80' is not defined",
     "output_type": "error",
     "traceback": [
      "\u001b[0;31m---------------------------------------------------------------------------\u001b[0m",
      "\u001b[0;31mNameError\u001b[0m                                 Traceback (most recent call last)",
      "\u001b[0;32m<ipython-input-14-8d17160465f7>\u001b[0m in \u001b[0;36m<module>\u001b[0;34m\u001b[0m\n\u001b[1;32m      7\u001b[0m     \u001b[0;32mreturn\u001b[0m \u001b[0;34m[\u001b[0m\u001b[0;34m(\u001b[0m\u001b[0mcol\u001b[0m\u001b[0;34m,\u001b[0m\u001b[0mset\u001b[0m\u001b[0;34m(\u001b[0m\u001b[0mdf\u001b[0m\u001b[0;34m[\u001b[0m\u001b[0mcol\u001b[0m\u001b[0;34m]\u001b[0m\u001b[0;34m[\u001b[0m\u001b[0mpd\u001b[0m\u001b[0;34m.\u001b[0m\u001b[0mnotnull\u001b[0m\u001b[0;34m(\u001b[0m\u001b[0mdf\u001b[0m\u001b[0;34m[\u001b[0m\u001b[0mcol\u001b[0m\u001b[0;34m]\u001b[0m\u001b[0;34m)\u001b[0m\u001b[0;34m]\u001b[0m\u001b[0;34m.\u001b[0m\u001b[0munique\u001b[0m\u001b[0;34m(\u001b[0m\u001b[0;34m)\u001b[0m\u001b[0;34m)\u001b[0m\u001b[0;34m)\u001b[0m \u001b[0;32mfor\u001b[0m \u001b[0mcol\u001b[0m \u001b[0;32min\u001b[0m \u001b[0mdf\u001b[0m\u001b[0;34m.\u001b[0m\u001b[0mcolumns\u001b[0m \u001b[0;32mif\u001b[0m \u001b[0mlen\u001b[0m\u001b[0;34m(\u001b[0m\u001b[0mdf\u001b[0m\u001b[0;34m[\u001b[0m\u001b[0mcol\u001b[0m\u001b[0;34m]\u001b[0m\u001b[0;34m.\u001b[0m\u001b[0munique\u001b[0m\u001b[0;34m(\u001b[0m\u001b[0;34m)\u001b[0m\u001b[0;34m)\u001b[0m\u001b[0;34m<=\u001b[0m\u001b[0mmaxnum\u001b[0m\u001b[0;34m]\u001b[0m\u001b[0;34m\u001b[0m\u001b[0;34m\u001b[0m\u001b[0m\n\u001b[1;32m      8\u001b[0m \u001b[0;34m\u001b[0m\u001b[0m\n\u001b[0;32m----> 9\u001b[0;31m \u001b[0mlist1\u001b[0m\u001b[0;34m=\u001b[0m\u001b[0mcreate_dic\u001b[0m\u001b[0;34m(\u001b[0m\u001b[0mukb_tp0_cols80\u001b[0m\u001b[0;34m,\u001b[0m\u001b[0mmaxnum\u001b[0m\u001b[0;34m=\u001b[0m\u001b[0;36m15\u001b[0m\u001b[0;34m)\u001b[0m\u001b[0;34m\u001b[0m\u001b[0;34m\u001b[0m\u001b[0m\n\u001b[0m\u001b[1;32m     10\u001b[0m \u001b[0mvalslist\u001b[0m\u001b[0;34m=\u001b[0m\u001b[0mpd\u001b[0m\u001b[0;34m.\u001b[0m\u001b[0mDataFrame\u001b[0m\u001b[0;34m(\u001b[0m\u001b[0mlist1\u001b[0m\u001b[0;34m)\u001b[0m\u001b[0;34m\u001b[0m\u001b[0;34m\u001b[0m\u001b[0m\n\u001b[1;32m     11\u001b[0m \u001b[0mvalslist\u001b[0m\u001b[0;34m.\u001b[0m\u001b[0mcolumns\u001b[0m\u001b[0;34m=\u001b[0m\u001b[0;34m[\u001b[0m\u001b[0;34m'column'\u001b[0m\u001b[0;34m,\u001b[0m\u001b[0;34m'values'\u001b[0m\u001b[0;34m]\u001b[0m\u001b[0;34m\u001b[0m\u001b[0;34m\u001b[0m\u001b[0m\n",
      "\u001b[0;31mNameError\u001b[0m: name 'ukb_tp0_cols80' is not defined"
     ]
    }
   ],
   "source": [
    "'''\n",
    "create lookup of values by variable so we can map these ordinally where possible\n",
    "'''\n",
    "\n",
    "\n",
    "def create_dic(df,maxnum=15):\n",
    "    return [(col,set(df[col][pd.notnull(df[col])].unique())) for col in df.columns if len(df[col].unique())<=maxnum]\n",
    "\n",
    "list1=create_dic(ukb_tp0_cols80,maxnum=15)\n",
    "valslist=pd.DataFrame(list1)\n",
    "valslist.columns=['column','values']\n",
    "valslist['merge']=valslist['values'].astype(str)\n",
    "vallist2=pd.DataFrame(valslist['values'].value_counts()).reset_index()\n",
    "vallist2.columns=['values','recs']\n",
    "vallist2['merge']=vallist2['values'].astype(str)\n",
    "vallistcomp=pd.merge(valslist,vallist2,on='merge',how='left')\n",
    "vallistcomp.sort_values(by='recs',ascending=False,inplace=True)\n",
    "#vallistcomp.to_csv(path+'vallistcomp.csv')"
   ]
  },
  {
   "cell_type": "code",
   "execution_count": 15,
   "id": "31366415-dbdd-41f5-9265-e6c7b5d471ed",
   "metadata": {},
   "outputs": [],
   "source": [
    "ordcols_full=pd.read_csv(path+'vallistcomp_edited.csv')\n",
    "ordcols=ordcols_full[(ordcols_full['Do']!='Exclude')&(ordcols_full['Do']!='ohe')&pd.notnull(ordcols_full['Do'])][['column','Do']]"
   ]
  },
  {
   "cell_type": "code",
   "execution_count": 16,
   "id": "193db3a2-4282-47c5-ba02-977d27f76702",
   "metadata": {},
   "outputs": [],
   "source": [
    "cols80_df=pd.read_csv(path+'cols80.csv')"
   ]
  },
  {
   "cell_type": "code",
   "execution_count": 17,
   "id": "609cad3a-880c-48b5-ad65-4381359466ca",
   "metadata": {},
   "outputs": [],
   "source": [
    "cols80=list(cols80_df['colname'])\n",
    "excs='source_of_report|first_reported|icd10|icd9|operative_procedures|treatment_speciality|external_ca|patient_recoded|\\\n",
    "hospital_polymorphic|_report|assay_date|device_id'\n",
    "cols80_exc=[col for col in cols80 if not re.search(excs,col) ]"
   ]
  },
  {
   "cell_type": "code",
   "execution_count": 18,
   "id": "65f83487-fafa-41a0-8e46-685bb733e687",
   "metadata": {},
   "outputs": [
    {
     "name": "stderr",
     "output_type": "stream",
     "text": [
      "<ipython-input-11-acbc81d1e7af>:4: SettingWithCopyWarning: \n",
      "A value is trying to be set on a copy of a slice from a DataFrame\n",
      "\n",
      "See the caveats in the documentation: https://pandas.pydata.org/pandas-docs/stable/user_guide/indexing.html#returning-a-view-versus-a-copy\n",
      "  df[col][mask]=np.NaN\n"
     ]
    },
    {
     "name": "stdout",
     "output_type": "stream",
     "text": [
      "CPU times: user 27.9 s, sys: 10 s, total: 37.9 s\n",
      "Wall time: 30.9 s\n"
     ]
    }
   ],
   "source": [
    "%%time\n",
    "ukb_tp0_cols80=pd.read_parquet(path+'ukb_tp0_new.parquet',columns=cols80_exc)\n",
    "ukb_tp0_cols80=convert_null(ukb_tp0_cols80)"
   ]
  },
  {
   "cell_type": "code",
   "execution_count": 28,
   "id": "c24950f8-33c5-4a47-9d10-88d5d4e40527",
   "metadata": {},
   "outputs": [
    {
     "data": {
      "text/html": [
       "<div>\n",
       "<style scoped>\n",
       "    .dataframe tbody tr th:only-of-type {\n",
       "        vertical-align: middle;\n",
       "    }\n",
       "\n",
       "    .dataframe tbody tr th {\n",
       "        vertical-align: top;\n",
       "    }\n",
       "\n",
       "    .dataframe thead th {\n",
       "        text-align: right;\n",
       "    }\n",
       "</style>\n",
       "<table border=\"1\" class=\"dataframe\">\n",
       "  <thead>\n",
       "    <tr style=\"text-align: right;\">\n",
       "      <th></th>\n",
       "      <th>number_of_times_snapbutton_pressed_f403_0_0</th>\n",
       "      <th>number_of_times_snapbutton_pressed_f403_0_1</th>\n",
       "      <th>number_of_times_snapbutton_pressed_f403_0_2</th>\n",
       "      <th>number_of_times_snapbutton_pressed_f403_0_3</th>\n",
       "      <th>number_of_times_snapbutton_pressed_f403_0_4</th>\n",
       "      <th>number_of_times_snapbutton_pressed_f403_0_5</th>\n",
       "      <th>number_of_times_snapbutton_pressed_f403_0_6</th>\n",
       "      <th>number_of_times_snapbutton_pressed_f403_0_7</th>\n",
       "      <th>number_of_times_snapbutton_pressed_f403_0_8</th>\n",
       "      <th>number_of_times_snapbutton_pressed_f403_0_9</th>\n",
       "      <th>number_of_times_snapbutton_pressed_f403_0_10</th>\n",
       "      <th>number_of_times_snapbutton_pressed_f403_0_11</th>\n",
       "    </tr>\n",
       "  </thead>\n",
       "  <tbody>\n",
       "    <tr>\n",
       "      <th>0</th>\n",
       "      <td>0.0</td>\n",
       "      <td>1.0</td>\n",
       "      <td>0.0</td>\n",
       "      <td>0.0</td>\n",
       "      <td>1.0</td>\n",
       "      <td>1.0</td>\n",
       "      <td>0.0</td>\n",
       "      <td>1.0</td>\n",
       "      <td>0.0</td>\n",
       "      <td>0.0</td>\n",
       "      <td>1.0</td>\n",
       "      <td>1.0</td>\n",
       "    </tr>\n",
       "    <tr>\n",
       "      <th>1</th>\n",
       "      <td>0.0</td>\n",
       "      <td>0.0</td>\n",
       "      <td>1.0</td>\n",
       "      <td>0.0</td>\n",
       "      <td>1.0</td>\n",
       "      <td>1.0</td>\n",
       "      <td>0.0</td>\n",
       "      <td>1.0</td>\n",
       "      <td>0.0</td>\n",
       "      <td>0.0</td>\n",
       "      <td>1.0</td>\n",
       "      <td>1.0</td>\n",
       "    </tr>\n",
       "    <tr>\n",
       "      <th>2</th>\n",
       "      <td>0.0</td>\n",
       "      <td>0.0</td>\n",
       "      <td>1.0</td>\n",
       "      <td>1.0</td>\n",
       "      <td>0.0</td>\n",
       "      <td>1.0</td>\n",
       "      <td>0.0</td>\n",
       "      <td>1.0</td>\n",
       "      <td>0.0</td>\n",
       "      <td>0.0</td>\n",
       "      <td>1.0</td>\n",
       "      <td>1.0</td>\n",
       "    </tr>\n",
       "    <tr>\n",
       "      <th>3</th>\n",
       "      <td>1.0</td>\n",
       "      <td>1.0</td>\n",
       "      <td>0.0</td>\n",
       "      <td>0.0</td>\n",
       "      <td>0.0</td>\n",
       "      <td>1.0</td>\n",
       "      <td>0.0</td>\n",
       "      <td>1.0</td>\n",
       "      <td>0.0</td>\n",
       "      <td>0.0</td>\n",
       "      <td>1.0</td>\n",
       "      <td>1.0</td>\n",
       "    </tr>\n",
       "    <tr>\n",
       "      <th>4</th>\n",
       "      <td>0.0</td>\n",
       "      <td>0.0</td>\n",
       "      <td>0.0</td>\n",
       "      <td>1.0</td>\n",
       "      <td>1.0</td>\n",
       "      <td>1.0</td>\n",
       "      <td>0.0</td>\n",
       "      <td>1.0</td>\n",
       "      <td>0.0</td>\n",
       "      <td>0.0</td>\n",
       "      <td>1.0</td>\n",
       "      <td>1.0</td>\n",
       "    </tr>\n",
       "    <tr>\n",
       "      <th>...</th>\n",
       "      <td>...</td>\n",
       "      <td>...</td>\n",
       "      <td>...</td>\n",
       "      <td>...</td>\n",
       "      <td>...</td>\n",
       "      <td>...</td>\n",
       "      <td>...</td>\n",
       "      <td>...</td>\n",
       "      <td>...</td>\n",
       "      <td>...</td>\n",
       "      <td>...</td>\n",
       "      <td>...</td>\n",
       "    </tr>\n",
       "    <tr>\n",
       "      <th>502443</th>\n",
       "      <td>1.0</td>\n",
       "      <td>1.0</td>\n",
       "      <td>0.0</td>\n",
       "      <td>0.0</td>\n",
       "      <td>0.0</td>\n",
       "      <td>1.0</td>\n",
       "      <td>0.0</td>\n",
       "      <td>1.0</td>\n",
       "      <td>0.0</td>\n",
       "      <td>0.0</td>\n",
       "      <td>1.0</td>\n",
       "      <td>1.0</td>\n",
       "    </tr>\n",
       "    <tr>\n",
       "      <th>502444</th>\n",
       "      <td>0.0</td>\n",
       "      <td>1.0</td>\n",
       "      <td>0.0</td>\n",
       "      <td>0.0</td>\n",
       "      <td>1.0</td>\n",
       "      <td>1.0</td>\n",
       "      <td>0.0</td>\n",
       "      <td>1.0</td>\n",
       "      <td>0.0</td>\n",
       "      <td>0.0</td>\n",
       "      <td>1.0</td>\n",
       "      <td>1.0</td>\n",
       "    </tr>\n",
       "    <tr>\n",
       "      <th>502445</th>\n",
       "      <td>1.0</td>\n",
       "      <td>0.0</td>\n",
       "      <td>1.0</td>\n",
       "      <td>0.0</td>\n",
       "      <td>0.0</td>\n",
       "      <td>1.0</td>\n",
       "      <td>0.0</td>\n",
       "      <td>1.0</td>\n",
       "      <td>0.0</td>\n",
       "      <td>0.0</td>\n",
       "      <td>1.0</td>\n",
       "      <td>1.0</td>\n",
       "    </tr>\n",
       "    <tr>\n",
       "      <th>502446</th>\n",
       "      <td>0.0</td>\n",
       "      <td>1.0</td>\n",
       "      <td>0.0</td>\n",
       "      <td>1.0</td>\n",
       "      <td>0.0</td>\n",
       "      <td>1.0</td>\n",
       "      <td>0.0</td>\n",
       "      <td>1.0</td>\n",
       "      <td>0.0</td>\n",
       "      <td>0.0</td>\n",
       "      <td>1.0</td>\n",
       "      <td>1.0</td>\n",
       "    </tr>\n",
       "    <tr>\n",
       "      <th>502447</th>\n",
       "      <td>NaN</td>\n",
       "      <td>NaN</td>\n",
       "      <td>NaN</td>\n",
       "      <td>NaN</td>\n",
       "      <td>NaN</td>\n",
       "      <td>NaN</td>\n",
       "      <td>NaN</td>\n",
       "      <td>NaN</td>\n",
       "      <td>NaN</td>\n",
       "      <td>NaN</td>\n",
       "      <td>NaN</td>\n",
       "      <td>NaN</td>\n",
       "    </tr>\n",
       "  </tbody>\n",
       "</table>\n",
       "<p>502448 rows × 12 columns</p>\n",
       "</div>"
      ],
      "text/plain": [
       "        number_of_times_snapbutton_pressed_f403_0_0  \\\n",
       "0                                               0.0   \n",
       "1                                               0.0   \n",
       "2                                               0.0   \n",
       "3                                               1.0   \n",
       "4                                               0.0   \n",
       "...                                             ...   \n",
       "502443                                          1.0   \n",
       "502444                                          0.0   \n",
       "502445                                          1.0   \n",
       "502446                                          0.0   \n",
       "502447                                          NaN   \n",
       "\n",
       "        number_of_times_snapbutton_pressed_f403_0_1  \\\n",
       "0                                               1.0   \n",
       "1                                               0.0   \n",
       "2                                               0.0   \n",
       "3                                               1.0   \n",
       "4                                               0.0   \n",
       "...                                             ...   \n",
       "502443                                          1.0   \n",
       "502444                                          1.0   \n",
       "502445                                          0.0   \n",
       "502446                                          1.0   \n",
       "502447                                          NaN   \n",
       "\n",
       "        number_of_times_snapbutton_pressed_f403_0_2  \\\n",
       "0                                               0.0   \n",
       "1                                               1.0   \n",
       "2                                               1.0   \n",
       "3                                               0.0   \n",
       "4                                               0.0   \n",
       "...                                             ...   \n",
       "502443                                          0.0   \n",
       "502444                                          0.0   \n",
       "502445                                          1.0   \n",
       "502446                                          0.0   \n",
       "502447                                          NaN   \n",
       "\n",
       "        number_of_times_snapbutton_pressed_f403_0_3  \\\n",
       "0                                               0.0   \n",
       "1                                               0.0   \n",
       "2                                               1.0   \n",
       "3                                               0.0   \n",
       "4                                               1.0   \n",
       "...                                             ...   \n",
       "502443                                          0.0   \n",
       "502444                                          0.0   \n",
       "502445                                          0.0   \n",
       "502446                                          1.0   \n",
       "502447                                          NaN   \n",
       "\n",
       "        number_of_times_snapbutton_pressed_f403_0_4  \\\n",
       "0                                               1.0   \n",
       "1                                               1.0   \n",
       "2                                               0.0   \n",
       "3                                               0.0   \n",
       "4                                               1.0   \n",
       "...                                             ...   \n",
       "502443                                          0.0   \n",
       "502444                                          1.0   \n",
       "502445                                          0.0   \n",
       "502446                                          0.0   \n",
       "502447                                          NaN   \n",
       "\n",
       "        number_of_times_snapbutton_pressed_f403_0_5  \\\n",
       "0                                               1.0   \n",
       "1                                               1.0   \n",
       "2                                               1.0   \n",
       "3                                               1.0   \n",
       "4                                               1.0   \n",
       "...                                             ...   \n",
       "502443                                          1.0   \n",
       "502444                                          1.0   \n",
       "502445                                          1.0   \n",
       "502446                                          1.0   \n",
       "502447                                          NaN   \n",
       "\n",
       "        number_of_times_snapbutton_pressed_f403_0_6  \\\n",
       "0                                               0.0   \n",
       "1                                               0.0   \n",
       "2                                               0.0   \n",
       "3                                               0.0   \n",
       "4                                               0.0   \n",
       "...                                             ...   \n",
       "502443                                          0.0   \n",
       "502444                                          0.0   \n",
       "502445                                          0.0   \n",
       "502446                                          0.0   \n",
       "502447                                          NaN   \n",
       "\n",
       "        number_of_times_snapbutton_pressed_f403_0_7  \\\n",
       "0                                               1.0   \n",
       "1                                               1.0   \n",
       "2                                               1.0   \n",
       "3                                               1.0   \n",
       "4                                               1.0   \n",
       "...                                             ...   \n",
       "502443                                          1.0   \n",
       "502444                                          1.0   \n",
       "502445                                          1.0   \n",
       "502446                                          1.0   \n",
       "502447                                          NaN   \n",
       "\n",
       "        number_of_times_snapbutton_pressed_f403_0_8  \\\n",
       "0                                               0.0   \n",
       "1                                               0.0   \n",
       "2                                               0.0   \n",
       "3                                               0.0   \n",
       "4                                               0.0   \n",
       "...                                             ...   \n",
       "502443                                          0.0   \n",
       "502444                                          0.0   \n",
       "502445                                          0.0   \n",
       "502446                                          0.0   \n",
       "502447                                          NaN   \n",
       "\n",
       "        number_of_times_snapbutton_pressed_f403_0_9  \\\n",
       "0                                               0.0   \n",
       "1                                               0.0   \n",
       "2                                               0.0   \n",
       "3                                               0.0   \n",
       "4                                               0.0   \n",
       "...                                             ...   \n",
       "502443                                          0.0   \n",
       "502444                                          0.0   \n",
       "502445                                          0.0   \n",
       "502446                                          0.0   \n",
       "502447                                          NaN   \n",
       "\n",
       "        number_of_times_snapbutton_pressed_f403_0_10  \\\n",
       "0                                                1.0   \n",
       "1                                                1.0   \n",
       "2                                                1.0   \n",
       "3                                                1.0   \n",
       "4                                                1.0   \n",
       "...                                              ...   \n",
       "502443                                           1.0   \n",
       "502444                                           1.0   \n",
       "502445                                           1.0   \n",
       "502446                                           1.0   \n",
       "502447                                           NaN   \n",
       "\n",
       "        number_of_times_snapbutton_pressed_f403_0_11  \n",
       "0                                                1.0  \n",
       "1                                                1.0  \n",
       "2                                                1.0  \n",
       "3                                                1.0  \n",
       "4                                                1.0  \n",
       "...                                              ...  \n",
       "502443                                           1.0  \n",
       "502444                                           1.0  \n",
       "502445                                           1.0  \n",
       "502446                                           1.0  \n",
       "502447                                           NaN  \n",
       "\n",
       "[502448 rows x 12 columns]"
      ]
     },
     "execution_count": 28,
     "metadata": {},
     "output_type": "execute_result"
    }
   ],
   "source": [
    "ukb_tp0_cols80[findcols(ukb_tp0_cols80,'number_of_times_snapbutton_pressed')]"
   ]
  },
  {
   "cell_type": "code",
   "execution_count": 26,
   "id": "84345247-df1c-4eea-8eda-d768a13dcae1",
   "metadata": {},
   "outputs": [
    {
     "data": {
      "text/plain": [
       "0         0.0\n",
       "1         0.0\n",
       "2         1.0\n",
       "3         0.0\n",
       "4         1.0\n",
       "         ... \n",
       "502443    0.0\n",
       "502444    0.0\n",
       "502445    0.0\n",
       "502446    1.0\n",
       "502447    NaN\n",
       "Name: number_of_times_snapbutton_pressed_f403_0_3, Length: 502448, dtype: float64"
      ]
     },
     "execution_count": 26,
     "metadata": {},
     "output_type": "execute_result"
    }
   ],
   "source": [
    "ukb_tp0_cols80['number_of_times_snapbutton_pressed_f403_0_3']"
   ]
  },
  {
   "cell_type": "code",
   "execution_count": 22,
   "id": "03a0e90f-7eae-4445-b354-c1baf32e5271",
   "metadata": {},
   "outputs": [
    {
     "data": {
      "text/plain": [
       "497825"
      ]
     },
     "execution_count": 22,
     "metadata": {},
     "output_type": "execute_result"
    }
   ],
   "source": [
    "ukb_tp0_cols80['number_of_correct_matches_in_round_f398_0_2'].count()"
   ]
  },
  {
   "cell_type": "code",
   "execution_count": 67,
   "id": "622a6f74-621e-4957-ae9f-26141a26aee8",
   "metadata": {},
   "outputs": [],
   "source": [
    "ordvars=[col for col in ordcols['column']]\n",
    "ctsvars=[col for col in ukb_tp0_cols80.columns if re.search('float',str(ukb_tp0_cols80[col].dtype))\n",
    "        and not re.search('aliquot|assessment_centre|acquisition_time|main_speciality|date_of_|patient_classi|\\\n",
    "methods_of_discharge|inpatient_record_format|weight_method|_missing_reason|eid',col)]\n",
    "excvars=list(ordcols_full[(ordcols_full['Do']=='Exclude')]['column'])\n",
    "ohe_vars=[col for col in ukb_tp0_cols80.columns if col not in list(ordcols['column'])+ctsvars+excvars\n",
    "         and not re.search('aliquot|assessment_centre|acquisition_time|main_speciality|date_of_|patient_classi|\\\n",
    "methods_of_discharge|inpatient_record_format|weight_method|_missing_reason|eid',col)]"
   ]
  },
  {
   "cell_type": "code",
   "execution_count": 52,
   "id": "f9d8624e-252f-467a-9717-a2bf9146a021",
   "metadata": {},
   "outputs": [
    {
     "name": "stderr",
     "output_type": "stream",
     "text": [
      "<ipython-input-43-bbd5783d53e2>:6: SettingWithCopyWarning: \n",
      "A value is trying to be set on a copy of a slice from a DataFrame\n",
      "\n",
      "See the caveats in the documentation: https://pandas.pydata.org/pandas-docs/stable/user_guide/indexing.html#returning-a-view-versus-a-copy\n",
      "  df[col][mask_exc]=np.nan\n"
     ]
    },
    {
     "name": "stdout",
     "output_type": "stream",
     "text": [
      "Total ohe variables = 26 \n"
     ]
    }
   ],
   "source": [
    "ohe_df=onehotencoder(df=ukb_tp0_cols80[ohe_vars+['eid']],cols=ohe_vars,excwords=excwords)"
   ]
  },
  {
   "cell_type": "code",
   "execution_count": 64,
   "id": "d249a1a8-ecea-4f26-9c20-11b9a74ac218",
   "metadata": {},
   "outputs": [],
   "source": [
    "cts_df=ukb_tp0_cols80[ctsvars+['eid']]"
   ]
  },
  {
   "cell_type": "code",
   "execution_count": 69,
   "id": "424050be-c0a0-435a-bee4-af69841bc42e",
   "metadata": {},
   "outputs": [],
   "source": [
    "df_ord=ukb_tp0_cols80[['eid']+ordvars]"
   ]
  },
  {
   "cell_type": "code",
   "execution_count": 72,
   "id": "c5703bba-b059-4622-ad96-8aa5fd8c4989",
   "metadata": {},
   "outputs": [
    {
     "name": "stderr",
     "output_type": "stream",
     "text": [
      "<ipython-input-72-7b1f6a3b26ce>:3: SettingWithCopyWarning: \n",
      "A value is trying to be set on a copy of a slice from a DataFrame.\n",
      "Try using .loc[row_indexer,col_indexer] = value instead\n",
      "\n",
      "See the caveats in the documentation: https://pandas.pydata.org/pandas-docs/stable/user_guide/indexing.html#returning-a-view-versus-a-copy\n",
      "  df_ord[col]=ukb_tp0_cols80[col].map(ast.literal_eval(ordcols['Do'].iloc[i]))\n"
     ]
    }
   ],
   "source": [
    "import ast\n",
    "for i,col in enumerate(ordcols['column']):\n",
    "    df_ord[col]=ukb_tp0_cols80[col].map(ast.literal_eval(ordcols['Do'].iloc[i]))"
   ]
  },
  {
   "cell_type": "code",
   "execution_count": 83,
   "id": "729f78d2-a9f6-4b51-9f1c-270419406a16",
   "metadata": {},
   "outputs": [],
   "source": [
    "df_model=pd.merge(df_ord,cts_df,on='eid',how='left')\n",
    "df_model=pd.merge(df_model,ohe_df,on='eid',how='left')\n",
    "df_model=pd.merge(df_model,ukb_tp0_cols80[keycols],on='eid',how='left')"
   ]
  },
  {
   "cell_type": "code",
   "execution_count": 86,
   "id": "961523e9-e384-4f9c-a4a1-8dc3839d77c9",
   "metadata": {},
   "outputs": [],
   "source": [
    "df_model.to_parquet(path+'df_model.parquet')"
   ]
  },
  {
   "cell_type": "code",
   "execution_count": null,
   "id": "1d7d3ad5-03bb-451f-b9fc-01be61cd50b7",
   "metadata": {},
   "outputs": [],
   "source": []
  }
 ],
 "metadata": {
  "kernelspec": {
   "display_name": "Python 3",
   "language": "python",
   "name": "python3"
  },
  "language_info": {
   "codemirror_mode": {
    "name": "ipython",
    "version": 3
   },
   "file_extension": ".py",
   "mimetype": "text/x-python",
   "name": "python",
   "nbconvert_exporter": "python",
   "pygments_lexer": "ipython3",
   "version": "3.8.8"
  }
 },
 "nbformat": 4,
 "nbformat_minor": 5
}
