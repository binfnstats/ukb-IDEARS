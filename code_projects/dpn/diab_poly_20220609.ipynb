{
 "cells": [
  {
   "cell_type": "code",
   "execution_count": null,
   "id": "d76dacf2-772b-4787-84d4-8834088e96c6",
   "metadata": {},
   "outputs": [],
   "source": [
    "%load_ext autoreload\n",
    "%autoreload 2\n",
    "import sys\n",
    "sys.path.append(\"../../../ukb-dementia-shap/\")\n",
    "\n",
    "import pickle\n",
    "eth_map=dict({'British':'White',\n",
    " 'Caribbean':'Other',\n",
    " 'Any other white background':'White',\n",
    " 'African':'African',\n",
    " 'Other ethnic group':'Other',\n",
    " 'Any other Asian background':'Asian',\n",
    " 'Chinese':'Asian',\n",
    " 'Indian':'Asian',\n",
    " 'Irish':'White',\n",
    " 'Pakistani':'Asian',\n",
    " 'White and Black African':'African',\n",
    " 'White and Asian':'Asian',\n",
    " 'White and Black Caribbean':'Other',\n",
    " 'White':'White',\n",
    " 'Any other mixed background':'Other'})\n",
    "\n",
    "\n",
    "from logic.data_processing.data_setup import *\n",
    "from logic.analysis.analysis import AnalysisCharts\n",
    "from logic.ml.classification_shap import IDEARs_funcs\n",
    "from pandas.tseries.offsets import DateOffset\n",
    "\n",
    "ds=data_setup()\n",
    "an=AnalysisCharts()\n",
    "dp=data_proc_main()\n",
    "ml=IDEARs_funcs()\n",
    "\n",
    "ml.path_figures='../figures/'\n",
    "\n",
    "def prep_data(eids_in,eids_inc_depvar,eids_exc_depvar,depvar):\n",
    "    mask=(df_model['eid'].isin(eids_in))&~(df_model['eid'].isin(eids_exc_depvar))\n",
    "    df_out=df_model.loc[mask,]\n",
    "\n",
    "    df_out[depvar]=0\n",
    "    df_out.loc[df_out['eid'].isin(eids_inc_depvar),depvar]=1\n",
    "    \n",
    "    return df_out\n",
    "\n",
    "def shap_multy(df,figname='test',depvar='pain',resize=0,resizeratio=20,meanshapmin=0.03,minrecs=3,rank=25,runs=10,barplots=1):\n",
    "    \n",
    "    feats_full=[]\n",
    "    aucs_full=[]\n",
    "    for i in range(runs):\n",
    "        rets=ds.shapruns_new(df=df,run='test',\\\n",
    "    remwords='diabetes|H360|total_dis|Longstanding|illnesses|diseases',depvar=depvar,resize=resize,resizeratio=resizeratio,perc=True,barplots=barplots)\n",
    "\n",
    "        feats=ml.shapgraphs_tuple(rets['shaps'],max_disp=30,figname='SHAP test',plot=False)\n",
    "        feats['Variable_orig']=feats['Variable']\n",
    "        feats['v2']=feats['Variable'].map(ds.varmap)\n",
    "        feats.loc[pd.notnull(feats['v2']),'Variable']=feats['v2']\n",
    "        feats_full.append(feats)\n",
    "        aucs_full.append(rets['aucs'])\n",
    "    #ml.boxplot_shap(df=feats_full,meanshapmin=meanshapmin,minrecs=minrecs,lab='all',figprint=True,figname=figname,format_file='.jpg',rank=rank,list=True)\n",
    "    \n",
    "    return feats_full,rets,aucs_full\n",
    "\n"
   ]
  },
  {
   "cell_type": "code",
   "execution_count": null,
   "id": "dd821096-3338-4ab6-bec9-fd57888009cc",
   "metadata": {},
   "outputs": [],
   "source": [
    "df_dis_date_test2=pd.read_parquet(dp.path+'df_dis_date_test2.parquet')\n",
    "df_model=pd.read_parquet(dp.path+'df_all_final2022-04-13.parquet')\n",
    "df_poly=pd.read_parquet('../../data/df_polyn_ukb.parquet')\n",
    "df_pain=pd.read_parquet('../../data/df_pain_ukb.parquet')\n",
    "df_brain_mri_only=pd.read_parquet('../../data/df_brain_mri.parquet')\n",
    "\n",
    "#df_dis_date_test=pd.read_parquet(dp.path+'df_dis_date_test.parquet')\n",
    "#df_model=pd.read_parquet(dp.path+'df_model_test_treat.parquet')\n",
    "#df_model=pd.read_parquet(dp.path+'df_all_final'+dp.date_suff+'.parquet')\n",
    "\n"
   ]
  },
  {
   "cell_type": "code",
   "execution_count": null,
   "id": "176c798c",
   "metadata": {},
   "outputs": [],
   "source": [
    "df_brain_mri_only=pd.read_parquet('../../data/df_brain_mri.parquet')"
   ]
  },
  {
   "cell_type": "code",
   "execution_count": null,
   "id": "85305623-64df-47ed-b16e-48e26d48cd69",
   "metadata": {},
   "outputs": [],
   "source": [
    "df_eth=pd.read_parquet('../../data/df_eth.parquet')"
   ]
  },
  {
   "cell_type": "code",
   "execution_count": null,
   "id": "2a35b186-fd1a-455f-9ae5-fc4359d26127",
   "metadata": {},
   "outputs": [],
   "source": [
    "df_pain['eid']=df_pain['eid'].astype(str)"
   ]
  },
  {
   "cell_type": "code",
   "execution_count": null,
   "id": "b0c2398f-3c21-4980-a835-8887554b51bc",
   "metadata": {},
   "outputs": [],
   "source": [
    "icd10_diabs_type1=ds.search_icd(strings='diabetes',second_string='insulin',\n",
    "                                non_strings='family|screening|noninsulin|insipidus|pregnancy',string_pat=True)[0]\n",
    "icd10_diabs_type2=ds.search_icd(strings='diabetes',second_string='noninsulin',\n",
    "                                non_strings='family|screening|insipidus|pregnancy',string_pat=True)[0]"
   ]
  },
  {
   "cell_type": "code",
   "execution_count": null,
   "id": "41d0e888-f431-4c88-be3a-f0d11b535ff7",
   "metadata": {},
   "outputs": [],
   "source": [
    "#polyicd10=ds.return_eids(string=icd10_poly,icd10s=True)"
   ]
  },
  {
   "cell_type": "code",
   "execution_count": null,
   "id": "97f8834f-11d2-4edc-bfde-9427d268e833",
   "metadata": {},
   "outputs": [],
   "source": [
    "diabs_self_eids=list(df_poly.loc[df_poly['diabetes_diagnosed_by_doctor_f2443_0_0']==1,'eid'].astype(str))\n",
    "diabpoly_self_eids=list(df_poly.loc[df_poly['ever_had_diabetic_neuropathy_f120079_0_0']==1,'eid'].astype(str))"
   ]
  },
  {
   "cell_type": "code",
   "execution_count": null,
   "id": "e62711cc-58e4-4dd2-a5a7-c0b40e9184c7",
   "metadata": {},
   "outputs": [],
   "source": [
    "polys=ds.return_eids(df_dis_date_test2,string='polyneuropathy',icd10s=False,string_exc='xxxxx',years=2)\n",
    "diabs=ds.return_eids(df_dis_date_test2,string='diabetes',string_exc='family|screening|insipidus|pregnancy') \n",
    "diabs_t1=ds.return_eids(df_dis_date_test2,string=icd10_diabs_type1,icd10s=True,string_exc='xxxxx',years=2)\n",
    "diabs_t2=ds.return_eids(df_dis_date_test2,string=icd10_diabs_type2,icd10s=True,string_exc='xxxxx',years=2)"
   ]
  },
  {
   "cell_type": "markdown",
   "id": "37821718-6af8-47ac-8c9d-87918f307afe",
   "metadata": {},
   "source": [
    "#### MRI"
   ]
  },
  {
   "cell_type": "code",
   "execution_count": null,
   "id": "5d2b6e47-936c-4aa7-88b9-67f1313bb662",
   "metadata": {},
   "outputs": [],
   "source": [
    "df_brain_mri_only['diab_neur']=0\n",
    "mask=df_brain_mri_only['eid'].isin(diabpoly_self_eids)\n",
    "df_brain_mri_only.loc[mask,'diab_neur']=1\n",
    "df_brain_mri_only['diab_neur'].sum()"
   ]
  },
  {
   "cell_type": "code",
   "execution_count": null,
   "id": "cebefe5d",
   "metadata": {},
   "outputs": [],
   "source": [
    "mask2=(df_brain_mri_only['eid'].isin(diabs_self_eids))\n",
    "df_brain_mri_only2=df_brain_mri_only.loc[mask2,]"
   ]
  },
  {
   "cell_type": "code",
   "execution_count": null,
   "id": "f90d53fb",
   "metadata": {},
   "outputs": [],
   "source": [
    "#df_brain_mri_an=ds.varnorm(df=df_brain_mri_only,normvars=['age_when_attended_assessment_centre_f21003_0_0','sex_f31_0_0'],depvar='diab_neur')\n",
    "\n",
    "feats_full_mri2=[]\n",
    "aucs_full2=[]\n",
    "for i in range(1):\n",
    "    \n",
    "    df_brain_mri_an=ds.varnorm(df=df_brain_mri_only2,normvars=['age_when_attended_assessment_centre_f21003_0_0','sex_f31_0_0'],depvar='diab_neur')\n",
    "\n",
    "\n",
    "    feats_full_mri,rets_mri,aucs_full_mri=shap_multy(df=df_brain_mri_an,figname='MRI Diabetic Poly',depvar='diab_neur',\n",
    "                              resize=0,resizeratio=10,meanshapmin=0.03,minrecs=3,rank=25,runs=10,barplots=0)\n",
    "    feats_full_mri2=feats_full_mri2+feats_full_mri\n",
    "    aucs_full2=aucs_full2+aucs_full_mri"
   ]
  },
  {
   "cell_type": "code",
   "execution_count": null,
   "id": "44247d17-5f40-4b0a-b40c-a0eb2359a423",
   "metadata": {},
   "outputs": [],
   "source": [
    "#df_brain_mri_only.to_parquet"
   ]
  },
  {
   "cell_type": "code",
   "execution_count": null,
   "id": "d4985f55",
   "metadata": {},
   "outputs": [],
   "source": [
    "mri_feats=ml.boxplot_shap(df=feats_full_mri,meanshapmin=0.02,minrecs=1,lab='all',figprint=True,figname='../figures/SHAP_mri_diabetes_poly',\n",
    "                format_file='.jpg',rank=25,list=True,ranknums=True,vars=['Variable','Variable_orig'])"
   ]
  },
  {
   "cell_type": "code",
   "execution_count": null,
   "id": "f40d8b98-9d57-4bcd-8016-1bd3348a9186",
   "metadata": {
    "jupyter": {
     "outputs_hidden": true
    },
    "scrolled": true,
    "tags": []
   },
   "outputs": [],
   "source": [
    "df_brain_mri_an=ds.varnorm(df=df_brain_mri_only,normvars=['age_when_attended_assessment_centre_f21003_0_0','sex_f31_0_0'],depvar='diab_neur')\n",
    "\n",
    "feats_full_mri2=[]\n",
    "aucs_full2=[]\n",
    "for i in range(1):\n",
    "    \n",
    "    df_brain_mri_an=ds.varnorm(df=df_brain_mri_only,normvars=['age_when_attended_assessment_centre_f21003_0_0','sex_f31_0_0'],depvar='diab_neur')\n",
    "\n",
    "\n",
    "    feats_full_mri,rets_mri,aucs_full_mri=shap_multy(df=df_brain_mri_an,figname='MRI Diabetic Poly',depvar='diab_neur',\n",
    "                              resize=1,resizeratio=10,meanshapmin=0.03,minrecs=3,rank=25,runs=10,barplots=0)\n",
    "    feats_full_mri2=feats_full_mri2+feats_full_mri\n",
    "    aucs_full2=aucs_full2+aucs_full_mri"
   ]
  },
  {
   "cell_type": "code",
   "execution_count": null,
   "id": "13c0671b-256a-4792-8fa1-d5a9a7d4fa57",
   "metadata": {
    "scrolled": true,
    "tags": []
   },
   "outputs": [],
   "source": [
    "mri_feats2=ml.boxplot_shap(df=feats_full_mri2,meanshapmin=0.02,minrecs=1,lab='all',figprint=True,figname='../figures/SHAP_mri_diabetes_poly',\n",
    "                format_file='.jpg',rank=25,list=True,ranknums=True,vars=['Variable','Variable_orig'])"
   ]
  },
  {
   "cell_type": "code",
   "execution_count": null,
   "id": "bc13e1ff",
   "metadata": {},
   "outputs": [],
   "source": [
    "othcols=['eid','age_when_attended_assessment_centre_f21003_0_0', 'sex_f31_0_0',\n",
    "       'diab_neur']\n",
    "compvars_mri_full=[c for c in df_brain_mri_only2.columns if c not in othcols]"
   ]
  },
  {
   "cell_type": "code",
   "execution_count": null,
   "id": "cca37977-d605-4bd2-968b-f91d471d135a",
   "metadata": {},
   "outputs": [],
   "source": [
    "fn=pd.read_csv('../../data/fieldnames_full.csv')\n",
    "map_col_notes=dict(zip(fn['col.name'],fn['Notes']))\n",
    "mri_feats['Variable description']=mri_feats['Variable_orig'].map(map_col_notes)\n",
    "mri_feats.to_csv('../data/mri_topfeats_desc.csv')"
   ]
  },
  {
   "cell_type": "code",
   "execution_count": null,
   "id": "f70a620e",
   "metadata": {},
   "outputs": [],
   "source": [
    "compvars_mri=list(mri_feats['Variable_orig'])\n",
    "feats_mri_orig=ds.runplots_static(df=df_brain_mri_only2,depvar='diab_neur',\n",
    "                             fig_name='../figures/mri_diab_neur',perc=True,\n",
    "                                  compvars=compvars_mri_full,savefig=False,pltshow=False)\n"
   ]
  },
  {
   "cell_type": "code",
   "execution_count": null,
   "id": "5bc00263",
   "metadata": {},
   "outputs": [],
   "source": [
    "import statsmodels.stats.multitest as multi\n",
    "new_ps=list(multi.multipletests(feats_mri_orig['p-value'])[1])"
   ]
  },
  {
   "cell_type": "code",
   "execution_count": null,
   "id": "29140c8e",
   "metadata": {},
   "outputs": [],
   "source": [
    "feats_mri_orig['p-value']=feats_mri_orig['p-value'].astype(float)\n",
    "new_val_dict=dict(zip([c for c in feats_mri_orig['p-value']],[c for c in new_ps]))\n",
    "\n",
    "feats_mri_orig['adj p val']=feats_mri_orig['p-value'].map(new_val_dict)"
   ]
  },
  {
   "cell_type": "code",
   "execution_count": null,
   "id": "3316760a",
   "metadata": {},
   "outputs": [],
   "source": [
    "feats_mri_orig.to_csv('../data/mri_adjusted_pvals.csv')"
   ]
  },
  {
   "cell_type": "code",
   "execution_count": null,
   "id": "9a144f75-62ba-4b0d-874b-b31e8acb4036",
   "metadata": {
    "jupyter": {
     "outputs_hidden": true
    },
    "tags": []
   },
   "outputs": [],
   "source": [
    "compvars_mri2=list(mri_feats2['Variable_orig'])\n",
    "feats_mri_new=ds.runplots_static(df=df_brain_mri_only2,depvar='diab_neur',\n",
    "                             fig_name='../figures/mri_diab_neur',perc=True,compvars=compvars_mri2,savefig=False)"
   ]
  },
  {
   "cell_type": "code",
   "execution_count": null,
   "id": "7e2d0b5b",
   "metadata": {},
   "outputs": [],
   "source": [
    "feats_mri_all=pd.concat([feats_mri_orig,feats_mri_new],axis=0)"
   ]
  },
  {
   "cell_type": "code",
   "execution_count": null,
   "id": "65092086-772b-4276-b5c6-26b200120d6c",
   "metadata": {},
   "outputs": [],
   "source": [
    "feats_mri_all.to_csv('../data/mri_pvals.csv')"
   ]
  },
  {
   "cell_type": "code",
   "execution_count": null,
   "id": "b31b7785-6163-43ce-ab3e-f98bd2e76f8c",
   "metadata": {
    "jupyter": {
     "outputs_hidden": true
    },
    "tags": []
   },
   "outputs": [],
   "source": [
    "df_brain_mri_an=ds.varnorm(df=df_brain_mri_only2,normvars=['age_when_attended_assessment_centre_f21003_0_0'],\n",
    "                           depvar='diab_neur')\n",
    "\n",
    "compvars_mri=list(mri_feats['Variable_orig'])\n",
    "\n",
    "\n",
    "feats_mri_an=ds.runplots_static(df=df_brain_mri_an,\n",
    "        depvar='diab_neur',fig_name='../figures/mri_diab_neur_an',perc=True,compvars=compvars_mri,savefig=False)\n",
    "feats_mri_an.to_csv('../data/feats_mri_an_diabetesonly_pvals.csv')"
   ]
  },
  {
   "cell_type": "code",
   "execution_count": null,
   "id": "be3cdea1-bd1b-4503-8f6d-7b2c2c15880b",
   "metadata": {},
   "outputs": [],
   "source": [
    "feats_mri_an.reset_index().to_csv('../data/feats_mri_an_pvals.csv')"
   ]
  },
  {
   "cell_type": "markdown",
   "id": "05a0f5a6-1d52-4ec2-a067-8731622f5024",
   "metadata": {},
   "source": [
    "#### Diabetes"
   ]
  },
  {
   "cell_type": "code",
   "execution_count": null,
   "id": "9991b0a8-8918-4971-a048-3f97555a86b9",
   "metadata": {
    "jupyter": {
     "outputs_hidden": true
    },
    "tags": []
   },
   "outputs": [],
   "source": [
    "%%time\n",
    "mask=(df_model['eid'].isin(diabs['eids_inc_snap']))&~(df_model['eid'].isin(polys['eids_exc_pro']))\n",
    "df_diab1a=df_model.loc[mask,]\n",
    "df_diab1a['polyneuropathy']=0\n",
    "df_diab1a.loc[df_diab1a['eid'].isin(polys['eids_inc_pro']),'polyneuropathy']=1\n",
    "\n",
    "feats_full,rets,aucs_full=shap_multy(df=df_diab1a,figname='Polyneuropathy diabetes',depvar='polyneuropathy',\n",
    "                          resize=0,resizeratio=20,meanshapmin=0.03,minrecs=10,rank=25,runs=50,barplots=0)"
   ]
  },
  {
   "cell_type": "code",
   "execution_count": null,
   "id": "46269e30-c2a2-4142-a13a-534812f12d5d",
   "metadata": {
    "tags": []
   },
   "outputs": [],
   "source": [
    "ml.boxplot_shap(df=feats_full,meanshapmin=0.025,minrecs=10,lab='all',figprint=True,figname='../figures/SHAP_diabetes_poly',\n",
    "                format_file='.jpg',rank=15,list=True,ranknums=True)"
   ]
  },
  {
   "cell_type": "code",
   "execution_count": null,
   "id": "f0ec9919-e7ba-492c-bf97-39e772ba432c",
   "metadata": {
    "jupyter": {
     "outputs_hidden": true
    },
    "tags": []
   },
   "outputs": [],
   "source": [
    "feats_diab=ds.runplots_static(df=df_diab1a,depvar='polyneuropathy',fig_name='../figures/diabetes_poly',perc=True,compvars=ds.compvars)"
   ]
  },
  {
   "cell_type": "markdown",
   "id": "2c50f777-70f5-4291-9734-8eaa5c458c7d",
   "metadata": {},
   "source": [
    "#### Diabetes type 1 and 2"
   ]
  },
  {
   "cell_type": "code",
   "execution_count": null,
   "id": "7d0c28e8-d7f5-4d09-80e9-bfc696f84db1",
   "metadata": {},
   "outputs": [],
   "source": [
    "eids_diabt1_snap=[e for e in diabs_t1['eids_inc_snap'] if e not in diabs_t2['eids_inc_snap']]\n",
    "eids_diabt2_snap=[e for e in diabs_t2['eids_inc_snap'] if e not in diabs_t1['eids_inc_snap']]\n",
    "eids_diabt12_snap=[e for e in diabs_t1['eids_inc_snap'] if e in diabs_t2['eids_inc_snap']]"
   ]
  },
  {
   "cell_type": "code",
   "execution_count": null,
   "id": "a0ddd6e7-1717-4a7d-a3ac-fa63507d63eb",
   "metadata": {
    "jupyter": {
     "outputs_hidden": true
    },
    "tags": []
   },
   "outputs": [],
   "source": [
    "df_diab_t1=prep_data(eids_in=eids_diabt1_snap,eids_inc_depvar=polys['eids_inc_pro'],\n",
    "                     eids_exc_depvar=polys['eids_exc_pro'],depvar='polyneuropathy')#diabs_t1['eids_inc_snap']\n",
    "\n",
    "feats_full_t1,rets_t1,aucs_full_t1=shap_multy(df=df_diab_t1,figname='Polyneuropathy diabetes t1',depvar='polyneuropathy',\n",
    "                          resize=0,resizeratio=20,meanshapmin=0.03,minrecs=10,rank=25,runs=50)\n"
   ]
  },
  {
   "cell_type": "code",
   "execution_count": null,
   "id": "6bf7cd13-8ae2-4e04-b3b6-bb7d1b19f74f",
   "metadata": {
    "tags": []
   },
   "outputs": [],
   "source": [
    "ml.boxplot_shap(df=feats_full_t1,meanshapmin=0.025,minrecs=10,\n",
    "                lab='all',figprint=True,figname='../figures/SHAP_diab_t1poly',format_file='.jpg',rank=15,list=True,ranknums=True)"
   ]
  },
  {
   "cell_type": "code",
   "execution_count": null,
   "id": "146992c7-e6fb-4312-95bd-ad1b34aa85d1",
   "metadata": {
    "jupyter": {
     "outputs_hidden": true
    },
    "tags": []
   },
   "outputs": [],
   "source": [
    "feats_diab_t1=ds.runplots_static(df=df_diab_t1,depvar='polyneuropathy',fig_name='../figures/diabetes_t1_poly',perc=True,compvars=ds.compvars)"
   ]
  },
  {
   "cell_type": "code",
   "execution_count": null,
   "id": "590a98a7-f4fc-457f-9a22-f9465aa46cf8",
   "metadata": {
    "jupyter": {
     "outputs_hidden": true
    },
    "tags": []
   },
   "outputs": [],
   "source": [
    "df_diab_t2=prep_data(eids_in=eids_diabt2_snap,eids_inc_depvar=polys['eids_inc_pro'],\n",
    "                     eids_exc_depvar=polys['eids_exc_pro'],depvar='polyneuropathy')#diabs_t2['eids_inc_snap']\n",
    "\n",
    "feats_full_t2,rets_t2,aucs_full_t2=shap_multy(df=df_diab_t2,figname='Polyneuropathy diabetes t2',depvar='polyneuropathy',\n",
    "                          resize=0,resizeratio=20,meanshapmin=0.03,minrecs=10,rank=25,runs=50)\n"
   ]
  },
  {
   "cell_type": "code",
   "execution_count": null,
   "id": "f99eb6ea-56b8-452b-9b98-18ab681a13be",
   "metadata": {
    "tags": []
   },
   "outputs": [],
   "source": [
    "ml.boxplot_shap(df=feats_full_t2,meanshapmin=0.025,minrecs=10,lab='all',figprint=True,\n",
    "                figname='../figures/SHAP_diab_t2poly',format_file='.jpg',rank=15,list=True,ranknums=True)"
   ]
  },
  {
   "cell_type": "code",
   "execution_count": null,
   "id": "1929b49a-f9bf-413f-bf80-e9c951dbac39",
   "metadata": {
    "jupyter": {
     "outputs_hidden": true
    },
    "tags": []
   },
   "outputs": [],
   "source": [
    "feats_diab_t2=ds.runplots_static(df=df_diab_t2,depvar='polyneuropathy',fig_name='../figures/diabetes_t2_poly',perc=True,compvars=ds.compvars)"
   ]
  },
  {
   "cell_type": "markdown",
   "id": "9013d490-a0a6-4b79-97ba-4d2a35e700ad",
   "metadata": {},
   "source": [
    "#### Pain charts"
   ]
  },
  {
   "cell_type": "code",
   "execution_count": null,
   "id": "6056ae91-9195-4380-a014-fbdff4754d90",
   "metadata": {
    "tags": []
   },
   "outputs": [],
   "source": [
    "v='all_over_body_pain_in_last_three_months_and_rating_of_pain_f120022_0_0'\n",
    "#v='feet_pain_in_last_three_months_and_rating_of_pain_f120033_0_0'\n",
    "mask=(df_pain[v]>5)&(df_pain[v]<11)\n",
    "pain_eids5=list(df_pain[mask]['eid'].unique())"
   ]
  },
  {
   "cell_type": "code",
   "execution_count": null,
   "id": "eb148cab-ff1b-4a5b-8ccc-f84d239776e9",
   "metadata": {
    "jupyter": {
     "outputs_hidden": true
    },
    "tags": []
   },
   "outputs": [],
   "source": [
    "print('based on over 5 score for 3 months all body pain')\n",
    "df_diabpoly_pain5=prep_data(eids_in=diabpoly_self_eids,eids_inc_depvar=pain_eids5,eids_exc_depvar=[],depvar='pain')\n",
    "feats_full_p5,rets_p5,aucs_full_p5=shap_multy(df=df_diabpoly_pain5,figname='Pain over 5 score',depvar='pain',resize=0,\n",
    "                            resizeratio=20,meanshapmin=0.03,minrecs=10,rank=25,runs=50,barplots=0)"
   ]
  },
  {
   "cell_type": "code",
   "execution_count": null,
   "id": "6bcb909d-30f1-47da-a520-5c7c73b24e26",
   "metadata": {},
   "outputs": [],
   "source": [
    "chk=pd.concat(feats_full_p5,axis=0)"
   ]
  },
  {
   "cell_type": "code",
   "execution_count": null,
   "id": "3ad3eb98-3634-4770-8d4f-6341c65f3b25",
   "metadata": {
    "tags": []
   },
   "outputs": [],
   "source": [
    "ml.boxplot_shap(df=feats_full_p5,meanshapmin=0.04,minrecs=20,lab='all',figprint=True,\n",
    "                figname='../figures/pain_p5_SHAP',format_file='.jpg',rank=20,list=True,ranknums=True)"
   ]
  },
  {
   "cell_type": "code",
   "execution_count": null,
   "id": "054864e6-3268-4ee0-999c-7935389ce301",
   "metadata": {
    "jupyter": {
     "outputs_hidden": true
    },
    "tags": []
   },
   "outputs": [],
   "source": [
    "feats_diab_p5=ds.runplots_static(df=df_diabpoly_pain5,depvar='pain',fig_name='../figures/diabet_poly_p5',perc=True,compvars=ds.compvars)"
   ]
  },
  {
   "cell_type": "markdown",
   "id": "589ed24a-84e0-4ec1-a2c3-27900867f441",
   "metadata": {},
   "source": [
    "#### Putting all together"
   ]
  },
  {
   "cell_type": "code",
   "execution_count": null,
   "id": "647f9c2e-4538-479d-b974-5f3e0174e2e0",
   "metadata": {},
   "outputs": [],
   "source": [
    "feats_diab[\"Model\"]='Polyneuropathy in Diabetes'\n",
    "feats_diab_t1[\"Model\"]='Polyneuropathy in Diabetes Type 1'\n",
    "feats_diab_t2[\"Model\"]='Polyneuropathy in Diabetes Type 2'\n",
    "feats_diab_p5[\"Model\"]='Pain All over body >5 in diabetic neuropathy'\n",
    "\n",
    "feats_sum=pd.concat([feats_diab,feats_diab_t1,feats_diab_t2,feats_diab_p5],axis=0)\n",
    "\n",
    "feats_sum.columns=[c[1]+' '+c[0] for c in feats_sum.columns]\n",
    "feats_sum=feats_sum.reset_index()\n",
    "\n",
    "feats_sum=feats_sum[ [' Model'] + [ col for col in feats_sum.columns if col != ' Model' ]]\n",
    "feats_sum.to_csv('../data/summary_inflammation.csv')"
   ]
  },
  {
   "cell_type": "code",
   "execution_count": null,
   "id": "8c9d3f33-ca38-4647-82ce-e2fe8276706c",
   "metadata": {},
   "outputs": [],
   "source": [
    "feats_sum"
   ]
  },
  {
   "cell_type": "code",
   "execution_count": null,
   "id": "d2b272e2-fffe-4353-976f-95146cea95f2",
   "metadata": {
    "tags": []
   },
   "outputs": [],
   "source": [
    "aucs=[c[0] for c in aucs_full]+[c[0] for c in aucs_full_t2]+[c[0] for c in aucs_full_t1]+[c[0] for c in aucs_full_p5]+[c[0] for c in aucs_full_mri]\n",
    "names=['Diabetes and Polyneuropathy' for c in aucs_full]+['Diabetes type 2 and Polyneuropathy' for c in aucs_full_t2]+\\\n",
    "['Diabetes type 1 and Polyneuropathy' for c in aucs_full_t1]\\\n",
    "+['Pain all over body >5 in diabetic polyneuropathy' for c in aucs_full_p5]+['MRI Age normalised diabetic neuropathy' for c in aucs_full_mri]\n",
    "\n",
    "df_auc=pd.DataFrame({'model':names,'AUC':aucs})\n",
    "\n",
    "print('AUCs for each model')\n",
    "print(pd.DataFrame(df_auc.groupby(['model']).agg({'AUC':['mean','std']})).reset_index())\n",
    "\n",
    "df_auc.to_csv('../data/diab_neur_aucs_wmri'+ml.date_run+'.csv')\n",
    "\n",
    "from matplotlib.pyplot import figure\n",
    "figure(figsize=(10, 10), dpi=200)\n",
    "ax=sns.boxplot(data=df_auc,x='AUC',y='model',palette=\"Blues\")\n",
    "#ax.axes.set_title(\"Boxplot of AUC values for each experiment\",fontsize=30)\n",
    "ax.xaxis.label.set_visible(False)\n",
    "ax.yaxis.label.set_visible(False)\n",
    "              \n",
    "plt.savefig(\"../figures/diab_neur_aucs_wmri\"+ml.date_run+'.jpg', dpi=300,bbox_inches='tight')\n",
    "\n",
    "plt.show()"
   ]
  },
  {
   "cell_type": "markdown",
   "id": "0cd9877b-2e0f-412a-b676-92c3dc7d30b1",
   "metadata": {},
   "source": [
    "#### Summary Table"
   ]
  },
  {
   "cell_type": "code",
   "execution_count": null,
   "id": "622cd143-c136-41cf-ad8c-5c31cb0b5a12",
   "metadata": {},
   "outputs": [],
   "source": [
    "dfs=[df_diab1a,df_diab_t2,df_diab_t1,df_diabpoly_pain5,df_brain_mri_only]\n",
    "depvars=['polyneuropathy','polyneuropathy','polyneuropathy','pain','diab_neur']\n",
    "names=['Diabetes and Polyneuropathy','Diabetes type 1 and Polyneuropathy','Diabetes type 2 and Polyneuropathy',\n",
    "       'Pain all over body >5 in diabetic polyneuropathy','MRI Age normalised diabetic neuropathy']"
   ]
  },
  {
   "cell_type": "code",
   "execution_count": null,
   "id": "bdd53295-b3f0-49df-b272-6fd7b767bd81",
   "metadata": {},
   "outputs": [],
   "source": [
    "df_eth['eid']=df_eth['eid'].astype(str)\n",
    "eth_dic=dict(zip(df_eth['eid'],df_eth['ethnic_background_f21000_0_0']))"
   ]
  },
  {
   "cell_type": "code",
   "execution_count": null,
   "id": "07041310-890b-4d81-9619-2486f266016e",
   "metadata": {},
   "outputs": [],
   "source": [
    "df_age_full=pd.DataFrame([])\n",
    "df_eth_full=pd.DataFrame([])\n",
    "df_sex_full=pd.DataFrame([])\n",
    "df_sex_eth_full=pd.DataFrame([])\n",
    "\n",
    "for i,df in enumerate(dfs):\n",
    "    df['ethnic_background_f21000_0_0']=df['eid'].map(eth_dic)\n",
    "    df['ethnicity']=df['ethnic_background_f21000_0_0'].map(eth_map)\n",
    "    df.loc[pd.isnull(df['ethnicity']),'ethnicity']='Unknown'\n",
    "    df_sum=pd.DataFrame(df.groupby(depvars[i]).agg({'age_when_attended_assessment_centre_f21003_0_0':['mean','std']})).reset_index()\n",
    "    df_sum['Model']=names[i]\n",
    "    \n",
    "    df_eth2=pd.DataFrame(df.groupby('ethnic_background_f21000_0_0').agg({depvars[i]:['sum','count']})).reset_index()\n",
    "    df_eth2['Model']=names[i]\n",
    "    \n",
    "    df_sex=pd.DataFrame(df.groupby('sex_f31_0_0').agg({depvars[i]:['sum','count']})).reset_index()\n",
    "    df_sex['Model']=names[i]\n",
    "    \n",
    "    df_sex_eth=pd.DataFrame(df.groupby(['sex_f31_0_0','ethnic_background_f21000_0_0']).agg({depvars[i]:['sum','count']})).reset_index()\n",
    "    df_sex_eth['Model']=names[i]\n",
    "    \n",
    "    \n",
    "    \n",
    "    \n",
    "    df_age_full=pd.concat([df_age_full,df_sum],axis=0)\n",
    "    df_eth_full=pd.concat([df_eth_full,df_eth2],axis=0)\n",
    "    df_sex_full=pd.concat([df_sex_full,df_sex],axis=0)\n",
    "    df_sex_eth_full=pd.concat([df_sex_eth_full,df_sex_eth],axis=0)\n",
    "\n",
    "dict_sum=dict({'Ages':df_age_full,'Ethnicities':df_eth_full,'Genders':df_sex_full,'Eth_Gender':df_sex_eth_full})\n",
    "\n",
    "\n",
    "sum_file=open('../data/summary.pkl','wb')\n",
    "pickle.dump(dict_sum,sum_file)\n",
    "sum_file.close()\n"
   ]
  },
  {
   "cell_type": "code",
   "execution_count": null,
   "id": "27c5b1f7-4656-4333-a00d-8fbd517a4ebc",
   "metadata": {},
   "outputs": [],
   "source": [
    "dict_sum=pd.read_pickle('../data/summary.pkl')"
   ]
  },
  {
   "cell_type": "code",
   "execution_count": null,
   "id": "95eb6506-2fbe-4ec9-ad92-6eb02ef60e0e",
   "metadata": {},
   "outputs": [],
   "source": [
    "dict_sum['Eth_Gender']"
   ]
  },
  {
   "cell_type": "code",
   "execution_count": null,
   "id": "5369c43b-c0b9-47bc-add5-0eaeff04bc64",
   "metadata": {},
   "outputs": [],
   "source": [
    "dict_sum['Eth_Gender'].to_csv('../data/ethgender_sum.csv')"
   ]
  },
  {
   "cell_type": "code",
   "execution_count": null,
   "id": "a043b963-5e49-4be8-bd12-fb037a258b8d",
   "metadata": {},
   "outputs": [],
   "source": [
    "pd.DataFrame(df_diabpoly_pain5.groupby('ethnicity').agg({'pain':['sum','count']})).reset_index()"
   ]
  },
  {
   "cell_type": "code",
   "execution_count": null,
   "id": "52db0e18-8dd6-40f8-84ee-2083ca4c56bf",
   "metadata": {},
   "outputs": [],
   "source": []
  }
 ],
 "metadata": {
  "kernelspec": {
   "display_name": "Python 3 (ipykernel)",
   "language": "python",
   "name": "python3"
  },
  "language_info": {
   "codemirror_mode": {
    "name": "ipython",
    "version": 3
   },
   "file_extension": ".py",
   "mimetype": "text/x-python",
   "name": "python",
   "nbconvert_exporter": "python",
   "pygments_lexer": "ipython3",
   "version": "3.9.7"
  }
 },
 "nbformat": 4,
 "nbformat_minor": 5
}
