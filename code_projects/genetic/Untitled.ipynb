{
 "cells": [
  {
   "cell_type": "code",
   "execution_count": 2,
   "id": "a7240c3a",
   "metadata": {},
   "outputs": [],
   "source": [
    "import numpy as np\n",
    "import scipy.sparse\n",
    "import sympy\n",
    "import sklearn.datasets\n",
    "import sklearn.feature_extraction.text\n",
    "import umap\n",
    "#import umap.plot\n",
    "import matplotlib.pyplot as plt\n",
    "%matplotlib inline"
   ]
  },
  {
   "cell_type": "code",
   "execution_count": 3,
   "id": "db04befb",
   "metadata": {},
   "outputs": [],
   "source": [
    "primes = list(sympy.primerange(2, 110000))\n",
    "prime_to_column = {p:i for i, p in enumerate(primes)}\n"
   ]
  },
  {
   "cell_type": "code",
   "execution_count": 4,
   "id": "69552c8e",
   "metadata": {},
   "outputs": [
    {
     "name": "stdout",
     "output_type": "stream",
     "text": [
      "CPU times: user 1.06 s, sys: 63 ms, total: 1.12 s\n",
      "Wall time: 1.18 s\n"
     ]
    }
   ],
   "source": [
    "%%time\n",
    "lil_matrix_rows = []\n",
    "lil_matrix_data = []\n",
    "for n in range(100000):\n",
    "    prime_factors = sympy.primefactors(n)\n",
    "    lil_matrix_rows.append([prime_to_column[p] for p in prime_factors])\n",
    "    lil_matrix_data.append([1] * len(prime_factors))\n"
   ]
  },
  {
   "cell_type": "code",
   "execution_count": 5,
   "id": "3009b03a",
   "metadata": {},
   "outputs": [
    {
     "name": "stderr",
     "output_type": "stream",
     "text": [
      "/var/folders/z0/b8gp2l4j50l0rgwy21ps2ltm0000gn/T/ipykernel_15664/3118264754.py:2: VisibleDeprecationWarning: Creating an ndarray from ragged nested sequences (which is a list-or-tuple of lists-or-tuples-or ndarrays with different lengths or shapes) is deprecated. If you meant to do this, you must specify 'dtype=object' when creating the ndarray.\n",
      "  factor_matrix.rows = np.array(lil_matrix_rows)\n",
      "/var/folders/z0/b8gp2l4j50l0rgwy21ps2ltm0000gn/T/ipykernel_15664/3118264754.py:3: VisibleDeprecationWarning: Creating an ndarray from ragged nested sequences (which is a list-or-tuple of lists-or-tuples-or ndarrays with different lengths or shapes) is deprecated. If you meant to do this, you must specify 'dtype=object' when creating the ndarray.\n",
      "  factor_matrix.data = np.array(lil_matrix_data)\n"
     ]
    },
    {
     "data": {
      "text/plain": [
       "<100000x10453 sparse matrix of type '<class 'numpy.float32'>'\n",
       "\twith 266398 stored elements in List of Lists format>"
      ]
     },
     "execution_count": 5,
     "metadata": {},
     "output_type": "execute_result"
    }
   ],
   "source": [
    "factor_matrix = scipy.sparse.lil_matrix((len(lil_matrix_rows), len(primes)), dtype=np.float32)\n",
    "factor_matrix.rows = np.array(lil_matrix_rows)\n",
    "factor_matrix.data = np.array(lil_matrix_data)\n",
    "factor_matrix"
   ]
  },
  {
   "cell_type": "code",
   "execution_count": 6,
   "id": "87dbc34e",
   "metadata": {},
   "outputs": [
    {
     "data": {
      "text/plain": [
       "<100000x10453 sparse matrix of type '<class 'numpy.float32'>'\n",
       "\twith 266398 stored elements in List of Lists format>"
      ]
     },
     "execution_count": 6,
     "metadata": {},
     "output_type": "execute_result"
    }
   ],
   "source": [
    "factor_matrix"
   ]
  },
  {
   "cell_type": "code",
   "execution_count": 8,
   "id": "f6aaea1e",
   "metadata": {},
   "outputs": [
    {
     "ename": "AttributeError",
     "evalue": "module 'umap' has no attribute 'UMAP'",
     "output_type": "error",
     "traceback": [
      "\u001b[0;31m---------------------------------------------------------------------------\u001b[0m",
      "\u001b[0;31mAttributeError\u001b[0m                            Traceback (most recent call last)",
      "\u001b[0;32m/var/folders/z0/b8gp2l4j50l0rgwy21ps2ltm0000gn/T/ipykernel_15664/3847360849.py\u001b[0m in \u001b[0;36m<module>\u001b[0;34m\u001b[0m\n\u001b[0;32m----> 1\u001b[0;31m \u001b[0mmapper\u001b[0m \u001b[0;34m=\u001b[0m \u001b[0mumap\u001b[0m\u001b[0;34m.\u001b[0m\u001b[0mUMAP\u001b[0m\u001b[0;34m(\u001b[0m\u001b[0mmetric\u001b[0m\u001b[0;34m=\u001b[0m\u001b[0;34m'cosine'\u001b[0m\u001b[0;34m,\u001b[0m \u001b[0mrandom_state\u001b[0m\u001b[0;34m=\u001b[0m\u001b[0;36m42\u001b[0m\u001b[0;34m,\u001b[0m \u001b[0mlow_memory\u001b[0m\u001b[0;34m=\u001b[0m\u001b[0;32mTrue\u001b[0m\u001b[0;34m)\u001b[0m\u001b[0;34m.\u001b[0m\u001b[0mfit\u001b[0m\u001b[0;34m(\u001b[0m\u001b[0mfactor_matrix\u001b[0m\u001b[0;34m)\u001b[0m\u001b[0;34m\u001b[0m\u001b[0;34m\u001b[0m\u001b[0m\n\u001b[0m",
      "\u001b[0;31mAttributeError\u001b[0m: module 'umap' has no attribute 'UMAP'"
     ]
    }
   ],
   "source": [
    "mapper = umap.UMAP(metric='cosine', random_state=42, low_memory=True).fit(factor_matrix)\n"
   ]
  },
  {
   "cell_type": "code",
   "execution_count": 5,
   "id": "afa36ed0",
   "metadata": {},
   "outputs": [
    {
     "name": "stdout",
     "output_type": "stream",
     "text": [
      "Accuracy on the test set with raw data: 0.755\n"
     ]
    },
    {
     "name": "stderr",
     "output_type": "stream",
     "text": [
      "OMP: Info #270: omp_set_nested routine deprecated, please use omp_set_max_active_levels instead.\n"
     ]
    },
    {
     "name": "stdout",
     "output_type": "stream",
     "text": [
      "Accuracy on the test set with UMAP transformation: 0.935\n"
     ]
    }
   ],
   "source": [
    "from sklearn.datasets import make_classification\n",
    "from sklearn.model_selection import train_test_split, GridSearchCV\n",
    "from sklearn.pipeline import Pipeline\n",
    "from sklearn.svm import LinearSVC\n",
    "\n",
    "from umap import UMAP\n",
    "\n",
    "# Make a toy dataset\n",
    "X, y = make_classification(\n",
    "    n_samples=1000,\n",
    "    n_features=300,\n",
    "    n_informative=250,\n",
    "    n_redundant=0,\n",
    "    n_repeated=0,\n",
    "    n_classes=2,\n",
    "    random_state=1212,\n",
    ")\n",
    "\n",
    "# Split the dataset into a training set and a test set\n",
    "X_train, X_test, y_train, y_test = train_test_split(\n",
    "    X, y, test_size=0.2, random_state=42\n",
    ")\n",
    "\n",
    "# Classification with a linear SVM\n",
    "svc = LinearSVC(dual=False, random_state=123)\n",
    "params_grid = {\"C\": [10 ** k for k in range(-3, 4)]}\n",
    "clf = GridSearchCV(svc, params_grid)\n",
    "clf.fit(X_train, y_train)\n",
    "print(\n",
    "    \"Accuracy on the test set with raw data: {:.3f}\".format(clf.score(X_test, y_test))\n",
    ")\n",
    "\n",
    "# Transformation with UMAP followed by classification with a linear SVM\n",
    "umap = UMAP(random_state=456)\n",
    "pipeline = Pipeline([(\"umap\", umap), (\"svc\", svc)])\n",
    "params_grid_pipeline = {\n",
    "    \"umap__n_neighbors\": [5, 20],\n",
    "    \"umap__n_components\": [15, 25, 50],\n",
    "    \"svc__C\": [10 ** k for k in range(-3, 4)],\n",
    "}\n",
    "\n",
    "\n",
    "clf_pipeline = GridSearchCV(pipeline, params_grid_pipeline)\n",
    "clf_pipeline.fit(X_train, y_train)\n",
    "print(\n",
    "    \"Accuracy on the test set with UMAP transformation: {:.3f}\".format(\n",
    "        clf_pipeline.score(X_test, y_test)\n",
    "    )\n",
    ")"
   ]
  },
  {
   "cell_type": "code",
   "execution_count": 6,
   "id": "0a906d30",
   "metadata": {},
   "outputs": [],
   "source": [
    "umap = UMAP(random_state=456)"
   ]
  },
  {
   "cell_type": "code",
   "execution_count": null,
   "id": "9d2734fb",
   "metadata": {},
   "outputs": [
    {
     "name": "stdout",
     "output_type": "stream",
     "text": [
      "Found existing installation: umap 0.1.1\r\n",
      "Uninstalling umap-0.1.1:\r\n",
      "  Would remove:\r\n",
      "    /Users/michaelallwright/opt/anaconda3/lib/python3.9/site-packages/umap-0.1.1.dist-info/*\r\n",
      "    /Users/michaelallwright/opt/anaconda3/lib/python3.9/site-packages/umap/*\r\n",
      "Proceed (Y/n)? "
     ]
    }
   ],
   "source": [
    "!pip3 uninstall umap"
   ]
  },
  {
   "cell_type": "code",
   "execution_count": null,
   "id": "89abb5bb",
   "metadata": {},
   "outputs": [],
   "source": []
  }
 ],
 "metadata": {
  "kernelspec": {
   "display_name": "Python 3.9.7 64-bit ('base': conda)",
   "language": "python",
   "name": "python397jvsc74a57bd05b9ba41bae03718958cd3ff799c5467ce9f86bf41e5fdef92d14d03d67c977d5"
  },
  "language_info": {
   "codemirror_mode": {
    "name": "ipython",
    "version": 3
   },
   "file_extension": ".py",
   "mimetype": "text/x-python",
   "name": "python",
   "nbconvert_exporter": "python",
   "pygments_lexer": "ipython3",
   "version": "3.9.7"
  }
 },
 "nbformat": 4,
 "nbformat_minor": 5
}
