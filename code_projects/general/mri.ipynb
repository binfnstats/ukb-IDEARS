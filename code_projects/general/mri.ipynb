{
 "cells": [
  {
   "cell_type": "code",
   "execution_count": 3,
   "id": "6fb61770-fa2c-4172-aca5-011e346ec631",
   "metadata": {},
   "outputs": [
    {
     "name": "stdout",
     "output_type": "stream",
     "text": [
      "The autoreload extension is already loaded. To reload it, use:\n",
      "  %reload_ext autoreload\n"
     ]
    }
   ],
   "source": [
    "%load_ext autoreload\n",
    "%autoreload 2\n",
    "import sys\n",
    "sys.path.append(\"../../ukb-dementia-shap/\")\n",
    "\n",
    "\n",
    "\n",
    "from logic.data_processing.data_setup import *\n",
    "from logic.analysis.analysis import AnalysisCharts\n",
    "from pandas.tseries.offsets import DateOffset\n",
    "\n",
    "ds=data_setup()\n",
    "an=AnalysisCharts()\n",
    "dp=data_proc_main()"
   ]
  },
  {
   "cell_type": "code",
   "execution_count": 4,
   "id": "d879a3b9-ec92-435e-ac1e-8ba812e4a4ea",
   "metadata": {},
   "outputs": [],
   "source": [
    "df_brain=pd.read_parquet('../data/ukb_brain.parquet')\n",
    "df_model=pd.read_parquet(dp.path+'df_all_final2022-04-13.parquet')\n",
    "mask=pd.notnull(df_brain['volume_of_white_matter_f25008_2_0'])\n",
    "fields=pd.read_excel('../data/ukb_field_names.xlsx',sheet_name=\"fieldnames_full\")\n",
    "brain_fields_andrew=pd.read_csv('../data/brain_fields_andrew.csv')\n",
    "\n",
    "brain_cols_and=list(brain_fields_andrew['features'])+['volumetric_scaling_from_t1_head_image_to_standard_space_f25000_2_0']\n",
    "mask=pd.notnull(fields['field_type2'])&(fields['field_type2'].str.contains('Brain'))\n",
    "fields.loc[mask,]\n",
    "braincols=['eid']+list(fields.loc[mask,'col.name'].unique())\n",
    "\n",
    "mask=pd.notnull(df_brain['volumetric_scaling_from_t1_head_image_to_standard_space_f25000_2_0'])\n",
    "df_brain2=df_brain.loc[mask,]\n",
    "df_brain2['eid']=df_brain2['eid'].astype(str)\n",
    "mri_eids=list(df_brain2['eid'])\n",
    "#braincols2=[c for c in braincols if 'eid' in c or ( c[len(c)-3:len(c)]=='2_0' and 'volume' in c)]\n",
    "braincols2=[c for c in df_brain2.columns if c in brain_cols_and or 'eid' in c]\n",
    "df_brain_full=pd.merge(df_brain2[braincols2],df_model,on='eid',how='inner')\n",
    "df_brain_mri_only=pd.merge(df_brain2[braincols2],df_model[['eid','age_when_attended_assessment_centre_f21003_0_0','sex_f31_0_0']],on='eid',how='inner')\n",
    "\n",
    "multvar='volumetric_scaling_from_t1_head_image_to_standard_space_f25000_2_0'\n",
    "for v in df_brain_mri_only.columns:\n",
    "    if v!='eid' and 'sex' not in v and 'age_when' not in v and 'volume' in v and v!=multvar and 'norm' :\n",
    "        df_brain_mri_only[v]=df_brain_mri_only[v]*df_brain_mri_only[multvar]\n",
    "\n",
    "df_brain_mri_only.to_parquet('../data/df_brain_mri.parquet')"
   ]
  },
  {
   "cell_type": "code",
   "execution_count": null,
   "id": "72e47e42-39d2-42e3-83c6-6338b9cbd18c",
   "metadata": {},
   "outputs": [],
   "source": []
  }
 ],
 "metadata": {
  "kernelspec": {
   "display_name": "Python 3 (ipykernel)",
   "language": "python",
   "name": "python3"
  },
  "language_info": {
   "codemirror_mode": {
    "name": "ipython",
    "version": 3
   },
   "file_extension": ".py",
   "mimetype": "text/x-python",
   "name": "python",
   "nbconvert_exporter": "python",
   "pygments_lexer": "ipython3",
   "version": "3.9.7"
  }
 },
 "nbformat": 4,
 "nbformat_minor": 5
}
