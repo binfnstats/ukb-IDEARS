{
 "cells": [
  {
   "cell_type": "code",
   "execution_count": 1,
   "id": "3158c04d",
   "metadata": {},
   "outputs": [],
   "source": [
    "%load_ext autoreload\n",
    "%autoreload 2\n",
    "import sys\n",
    "import pickle\n",
    "sys.path.append(\"../../../ukb-dementia-shap/\")\n",
    "\n",
    "def prep_data(df,eids_in,eids_inc_depvar,eids_exc_depvar,depvar):\n",
    "    mask=(df['eid'].isin(eids_in))&~(df['eid'].isin(eids_exc_depvar))\n",
    "    df_out=df.loc[mask,]\n",
    "\n",
    "    df_out[depvar]=0\n",
    "    df_out.loc[df_out['eid'].isin(eids_inc_depvar),depvar]=1\n",
    "    \n",
    "    return df_out\n",
    "\n",
    "race_dict=dict({'British':'White',\n",
    " 'Any other white background':'White',\n",
    " 'Other ethnic group':'Others',\n",
    " 'Irish':'White',\n",
    " 'White':'White',\n",
    " 'Prefer not to answer':'Others',\n",
    " 'Any other mixed background':'Mixed',\n",
    " 'African':'Black',\n",
    " 'Indian':'South Asian',\n",
    " 'White and Asian':'Mixed',\n",
    " 'Pakistani':'South Asian',\n",
    " 'Caribbean':'Black',\n",
    " 'Chinese':'Chinese',\n",
    " 'Any other Asian background':'South Asian',\n",
    " 'White and Black African':'Mixed',\n",
    " 'White and Black Caribbean':'Mixed',\n",
    " 'Black or Black British':'Black',\n",
    " 'Do not know':'Others',\n",
    " 'Bangladeshi':'South Asian',\n",
    " 'Any other Black background':'Black',\n",
    " 'Mixed':'Mixed',\n",
    " 'Asian or Asian British':'South Asian'})\n",
    "\n",
    "\n",
    "drops=['date_of_attending_assessment_centre_f53_0_0','AD','dementia']\n",
    "from logic.data_processing.data_setup import *\n",
    "from logic.analysis.analysis import AnalysisCharts\n",
    "from pandas.tseries.offsets import DateOffset\n",
    "\n",
    "ds=data_setup()\n",
    "an=AnalysisCharts()\n",
    "dp=data_proc_main()\n",
    "\n",
    "ml.path_figures='../figures/'"
   ]
  },
  {
   "cell_type": "code",
   "execution_count": 2,
   "id": "6760bdea",
   "metadata": {},
   "outputs": [],
   "source": [
    "df_dis_date_test2=pd.read_parquet(dp.path+'df_dis_date_test2.parquet')\n",
    "df_model=pd.read_parquet(dp.path+'df_all_final2022-04-13.parquet')\n",
    "df_model=dp.studyvars_add(df_model)\n",
    "ad=ds.return_eids(df_dis_date_test2,string='G30',icd10s=True,string_exc='xxxxx',years=2)\n",
    "\n",
    "df_ad=prep_data(df=df_model,eids_in=list(df_model['eid']),\n",
    "                eids_inc_depvar=ad['eids_inc_pro'],eids_exc_depvar=ad['eids_exc_pro']+ad['ctrl_deaths'],\n",
    "                depvar='AD')\n",
    "\n",
    "AD_full_eids=list(ad['cases']['eid'])\n",
    "df_ad_full=prep_data(df=df_model,eids_in=list(df_model['eid']),\n",
    "                eids_inc_depvar=AD_full_eids,eids_exc_depvar=ad['ctrl_deaths'],\n",
    "                depvar='AD')"
   ]
  },
  {
   "cell_type": "code",
   "execution_count": 3,
   "id": "bb71acbc",
   "metadata": {
    "scrolled": true
   },
   "outputs": [],
   "source": [
    "\n",
    "mask=(df_ad['age_when_attended_assessment_centre_f21003_0_0']<=80)\\\n",
    "&(df_ad['age_when_attended_assessment_centre_f21003_0_0']>=50)\n",
    "df_ad=df_ad.loc[mask,]\n",
    "\n",
    "mask=(df_ad_full['age_when_attended_assessment_centre_f21003_0_0']<=80)\\\n",
    "&(df_ad_full['age_when_attended_assessment_centre_f21003_0_0']>=50)\n",
    "\n",
    "df_ad_full=df_ad_full.loc[mask,]\n",
    "\n",
    "df_ad_full=pd.merge(df_ad_full,ad['cases'][['eid','disease_date','date_assess']],on='eid',how='left')\n",
    "df_ad_full['years_AD']=-round((df_ad_full['disease_date']-df_ad_full['date_assess']).dt.days/365)"
   ]
  },
  {
   "cell_type": "code",
   "execution_count": null,
   "id": "d0d19a9a-7cb5-48e8-a906-e4d7eff21f14",
   "metadata": {},
   "outputs": [],
   "source": [
    "df_ad['phys_yn']=df_ad['number_of_daysweek_of_vigorous_physical_activity_10_minutes_f904_0_0'].\\\n",
    "apply(lambda x:1 if x>0 else 0)\n",
    "\n"
   ]
  },
  {
   "cell_type": "code",
   "execution_count": 11,
   "id": "e6baa4e3-6c04-4bbc-a3da-4757274b2adf",
   "metadata": {},
   "outputs": [
    {
     "data": {
      "text/plain": [
       "['met_minutes_per_week_for_walking_f22037_0_0',\n",
       " 'met_minutes_per_week_for_moderate_activity_f22038_0_0',\n",
       " 'met_minutes_per_week_for_vigorous_activity_f22039_0_0',\n",
       " 'summed_met_minutes_per_week_for_all_activity_f22040_0_0',\n",
       " 'met_min']"
      ]
     },
     "execution_count": 11,
     "metadata": {},
     "output_type": "execute_result"
    }
   ],
   "source": [
    "dp.findcols(df_ad,'met_min')"
   ]
  },
  {
   "cell_type": "code",
   "execution_count": 13,
   "id": "536f8e84-c14b-415c-8f06-af78e163e1bb",
   "metadata": {},
   "outputs": [
    {
     "data": {
      "text/plain": [
       "<AxesSubplot:>"
      ]
     },
     "execution_count": 13,
     "metadata": {},
     "output_type": "execute_result"
    },
    {
     "data": {
      "image/png": "[encoded data removed]",
      "text/plain": [
       "<Figure size 432x288 with 1 Axes>"
      ]
     },
     "metadata": {
      "needs_background": "light"
     },
     "output_type": "display_data"
    }
   ],
   "source": [
    "df_ad['met_minutes_per_week_for_vigorous_activity_f22039_0_0'].hist()"
   ]
  },
  {
   "cell_type": "code",
   "execution_count": 14,
   "id": "f71a89dc-9e64-4822-a041-2bb44252f983",
   "metadata": {},
   "outputs": [],
   "source": [
    "df_ad['met_min_walk']=pd.qcut(df_ad['met_minutes_per_week_for_walking_f22037_0_0'],5,labels=False)\n",
    "df_ad['met_min_mod']=pd.qcut(df_ad['met_minutes_per_week_for_moderate_activity_f22038_0_0'],5,labels=False)\n",
    "#df_ad['met_min_vig']=pd.qcut(df_ad['met_minutes_per_week_for_vigorous_activity_f22039_0_0'],5,labels=False)\n",
    "df_ad['met_min_all']=pd.qcut(df_ad['summed_met_minutes_per_week_for_all_activity_f22040_0_0'],5,labels=False)\n"
   ]
  },
  {
   "cell_type": "code",
   "execution_count": 18,
   "id": "124a8059-6c3f-4eea-a3f7-4e190193925c",
   "metadata": {},
   "outputs": [
    {
     "data": {
      "text/plain": [
       "met_min_walk\n",
       "0.0    0.006950\n",
       "1.0    0.006804\n",
       "2.0    0.008032\n",
       "3.0    0.008413\n",
       "4.0    0.008469\n",
       "Name: AD, dtype: float64"
      ]
     },
     "execution_count": 18,
     "metadata": {},
     "output_type": "execute_result"
    }
   ],
   "source": [
    "df_ad.groupby('met_min_walk')['AD'].mean()"
   ]
  },
  {
   "cell_type": "code",
   "execution_count": 9,
   "id": "4e3bd069",
   "metadata": {},
   "outputs": [
    {
     "name": "stdout",
     "output_type": "stream",
     "text": [
      "Total AD in data: 2355\n"
     ]
    }
   ],
   "source": [
    "df_train,df_val=ml.holdout_data(df_ad,agemin=50,agemax=70,depvar='AD',apoe=2,holdout_ratio=0.3,apoe_filt=True)"
   ]
  },
  {
   "cell_type": "code",
   "execution_count": 10,
   "id": "31653eed",
   "metadata": {},
   "outputs": [],
   "source": [
    "df_train.to_parquet('../data/AD_train_20220524.parquet')\n",
    "df_val.to_parquet('../data/AD_holdout_20220524.parquet')\n",
    "df_ad.to_parquet('../data/df_ad_20220524.parquet')\n",
    "df_ad_full.to_parquet('../data/df_ad_full_20220524.parquet')"
   ]
  },
  {
   "cell_type": "markdown",
   "id": "f0af030d",
   "metadata": {},
   "source": [
    "#### Population Characteristics"
   ]
  },
  {
   "cell_type": "code",
   "execution_count": 11,
   "id": "c9be9256",
   "metadata": {},
   "outputs": [],
   "source": [
    "df_ad_pop=pd.merge(df_ad,ad['cases'][['eid','disease_date','date_assess']],on='eid',how='left')\n",
    "df_ad_pop['years_PD']=round((df_ad_pop['disease_date']-df_ad_pop['date_assess']).dt.days/365)\n",
    "df_ad_pop['Age_PD']=df_ad_pop['age_when_attended_assessment_centre_f21003_0_0']+df_ad_pop['years_PD']"
   ]
  },
  {
   "cell_type": "code",
   "execution_count": 12,
   "id": "c6410367",
   "metadata": {},
   "outputs": [],
   "source": [
    "df_eth=pd.read_parquet('../../data/df_eth.parquet')\n",
    "df_eth['eid']=df_eth['eid'].astype(str)"
   ]
  },
  {
   "cell_type": "code",
   "execution_count": 13,
   "id": "458db583",
   "metadata": {},
   "outputs": [
    {
     "ename": "NameError",
     "evalue": "name 'df_pd_pop' is not defined",
     "output_type": "error",
     "traceback": [
      "\u001b[0;31m---------------------------------------------------------------------------\u001b[0m",
      "\u001b[0;31mNameError\u001b[0m                                 Traceback (most recent call last)",
      "\u001b[0;32m/var/folders/z0/b8gp2l4j50l0rgwy21ps2ltm0000gn/T/ipykernel_2078/588187890.py\u001b[0m in \u001b[0;36m<module>\u001b[0;34m\u001b[0m\n\u001b[0;32m----> 1\u001b[0;31m \u001b[0mdf_pd_pop\u001b[0m\u001b[0;34m=\u001b[0m\u001b[0mpd\u001b[0m\u001b[0;34m.\u001b[0m\u001b[0mmerge\u001b[0m\u001b[0;34m(\u001b[0m\u001b[0mdf_pd_pop\u001b[0m\u001b[0;34m,\u001b[0m\u001b[0mdf_eth\u001b[0m\u001b[0;34m,\u001b[0m\u001b[0mon\u001b[0m\u001b[0;34m=\u001b[0m\u001b[0;34m'eid'\u001b[0m\u001b[0;34m,\u001b[0m\u001b[0mhow\u001b[0m\u001b[0;34m=\u001b[0m\u001b[0;34m'left'\u001b[0m\u001b[0;34m)\u001b[0m\u001b[0;34m\u001b[0m\u001b[0;34m\u001b[0m\u001b[0m\n\u001b[0m",
      "\u001b[0;31mNameError\u001b[0m: name 'df_pd_pop' is not defined"
     ]
    }
   ],
   "source": [
    "df_pd_pop=pd.merge(df_pd_pop,df_eth,on='eid',how='left')"
   ]
  },
  {
   "cell_type": "code",
   "execution_count": 35,
   "id": "2972ea3a",
   "metadata": {},
   "outputs": [],
   "source": [
    "df_pd_pop['Ethnicity']='Others'\n",
    "df_pd_pop.loc[pd.notnull(df_pd_pop['ethnic_background_f21000_0_0']),'Ethnicity']=\\\n",
    "df_pd_pop['ethnic_background_f21000_0_0'].map(race_dict)"
   ]
  },
  {
   "cell_type": "code",
   "execution_count": 31,
   "id": "5d3153ab",
   "metadata": {},
   "outputs": [
    {
     "data": {
      "text/plain": [
       "['age_when_attended_assessment_centre_f21003_0_0']"
      ]
     },
     "execution_count": 31,
     "metadata": {},
     "output_type": "execute_result"
    }
   ],
   "source": [
    "dp.findcols(df_pd_pop,'age_when')"
   ]
  },
  {
   "cell_type": "code",
   "execution_count": 27,
   "id": "6eab4132",
   "metadata": {},
   "outputs": [
    {
     "data": {
      "text/plain": [
       "White          321471\n",
       "South Asian      5310\n",
       "Others           4094\n",
       "Black            3735\n",
       "Mixed            1338\n",
       "Chinese           833\n",
       "Name: Ethnicity, dtype: int64"
      ]
     },
     "execution_count": 27,
     "metadata": {},
     "output_type": "execute_result"
    }
   ],
   "source": [
    "df_pd_pop['Ethnicity'].value_counts()"
   ]
  },
  {
   "cell_type": "code",
   "execution_count": 38,
   "id": "3986bae2",
   "metadata": {},
   "outputs": [
    {
     "data": {
      "text/html": [
       "<div>\n",
       "<style scoped>\n",
       "    .dataframe tbody tr th:only-of-type {\n",
       "        vertical-align: middle;\n",
       "    }\n",
       "\n",
       "    .dataframe tbody tr th {\n",
       "        vertical-align: top;\n",
       "    }\n",
       "\n",
       "    .dataframe thead tr th {\n",
       "        text-align: left;\n",
       "    }\n",
       "\n",
       "    .dataframe thead tr:last-of-type th {\n",
       "        text-align: right;\n",
       "    }\n",
       "</style>\n",
       "<table border=\"1\" class=\"dataframe\">\n",
       "  <thead>\n",
       "    <tr>\n",
       "      <th></th>\n",
       "      <th></th>\n",
       "      <th colspan=\"2\" halign=\"left\">Age_PD</th>\n",
       "      <th colspan=\"2\" halign=\"left\">years_PD</th>\n",
       "      <th>PD</th>\n",
       "    </tr>\n",
       "    <tr>\n",
       "      <th></th>\n",
       "      <th></th>\n",
       "      <th>mean</th>\n",
       "      <th>std</th>\n",
       "      <th>mean</th>\n",
       "      <th>std</th>\n",
       "      <th>count</th>\n",
       "    </tr>\n",
       "    <tr>\n",
       "      <th>sex_f31_0_0</th>\n",
       "      <th>PD</th>\n",
       "      <th></th>\n",
       "      <th></th>\n",
       "      <th></th>\n",
       "      <th></th>\n",
       "      <th></th>\n",
       "    </tr>\n",
       "  </thead>\n",
       "  <tbody>\n",
       "    <tr>\n",
       "      <th rowspan=\"2\" valign=\"top\">0.0</th>\n",
       "      <th>0</th>\n",
       "      <td>NaN</td>\n",
       "      <td>NaN</td>\n",
       "      <td>NaN</td>\n",
       "      <td>NaN</td>\n",
       "      <td>148283</td>\n",
       "    </tr>\n",
       "    <tr>\n",
       "      <th>1</th>\n",
       "      <td>71.651943</td>\n",
       "      <td>5.155753</td>\n",
       "      <td>8.100707</td>\n",
       "      <td>2.816504</td>\n",
       "      <td>1698</td>\n",
       "    </tr>\n",
       "    <tr>\n",
       "      <th rowspan=\"2\" valign=\"top\">1.0</th>\n",
       "      <th>0</th>\n",
       "      <td>NaN</td>\n",
       "      <td>NaN</td>\n",
       "      <td>NaN</td>\n",
       "      <td>NaN</td>\n",
       "      <td>185779</td>\n",
       "    </tr>\n",
       "    <tr>\n",
       "      <th>1</th>\n",
       "      <td>71.215475</td>\n",
       "      <td>5.217485</td>\n",
       "      <td>7.955926</td>\n",
       "      <td>2.914638</td>\n",
       "      <td>1021</td>\n",
       "    </tr>\n",
       "  </tbody>\n",
       "</table>\n",
       "</div>"
      ],
      "text/plain": [
       "                   Age_PD            years_PD                PD\n",
       "                     mean       std      mean       std   count\n",
       "sex_f31_0_0 PD                                                 \n",
       "0.0         0         NaN       NaN       NaN       NaN  148283\n",
       "            1   71.651943  5.155753  8.100707  2.816504    1698\n",
       "1.0         0         NaN       NaN       NaN       NaN  185779\n",
       "            1   71.215475  5.217485  7.955926  2.914638    1021"
      ]
     },
     "execution_count": 38,
     "metadata": {},
     "output_type": "execute_result"
    }
   ],
   "source": [
    "df_pd_pop.groupby(['sex_f31_0_0','PD']).agg({'Age_PD':['mean','std'],'years_PD':['mean','std'],'PD':'count'})"
   ]
  },
  {
   "cell_type": "code",
   "execution_count": 1,
   "id": "50db7113",
   "metadata": {},
   "outputs": [
    {
     "ename": "NameError",
     "evalue": "name 'df_pd_pop' is not defined",
     "output_type": "error",
     "traceback": [
      "\u001b[0;31m---------------------------------------------------------------------------\u001b[0m",
      "\u001b[0;31mNameError\u001b[0m                                 Traceback (most recent call last)",
      "\u001b[0;32m/var/folders/z0/b8gp2l4j50l0rgwy21ps2ltm0000gn/T/ipykernel_36778/3676653332.py\u001b[0m in \u001b[0;36m<module>\u001b[0;34m\u001b[0m\n\u001b[0;32m----> 1\u001b[0;31m \u001b[0mdf_pd_pop\u001b[0m\u001b[0;34m.\u001b[0m\u001b[0mgroupby\u001b[0m\u001b[0;34m(\u001b[0m\u001b[0;34m[\u001b[0m\u001b[0;34m'Ethnicity'\u001b[0m\u001b[0;34m,\u001b[0m\u001b[0;34m'PD'\u001b[0m\u001b[0;34m,\u001b[0m\u001b[0;34m'sex_f31_0_0'\u001b[0m\u001b[0;34m]\u001b[0m\u001b[0;34m)\u001b[0m\u001b[0;34m.\u001b[0m\u001b[0magg\u001b[0m\u001b[0;34m(\u001b[0m\u001b[0;34m{\u001b[0m\u001b[0;34m'PD'\u001b[0m\u001b[0;34m:\u001b[0m\u001b[0;34m'count'\u001b[0m\u001b[0;34m}\u001b[0m\u001b[0;34m)\u001b[0m\u001b[0;34m.\u001b[0m\u001b[0munstack\u001b[0m\u001b[0;34m(\u001b[0m\u001b[0;34m'PD'\u001b[0m\u001b[0;34m)\u001b[0m\u001b[0;34m.\u001b[0m\u001b[0mreset_index\u001b[0m\u001b[0;34m(\u001b[0m\u001b[0;34m)\u001b[0m\u001b[0;34m\u001b[0m\u001b[0;34m\u001b[0m\u001b[0m\n\u001b[0m",
      "\u001b[0;31mNameError\u001b[0m: name 'df_pd_pop' is not defined"
     ]
    }
   ],
   "source": [
    "df_pd_pop.groupby(['Ethnicity','PD','sex_f31_0_0']).agg({'PD':'count'}).unstack('PD').reset_index()"
   ]
  },
  {
   "cell_type": "code",
   "execution_count": 22,
   "id": "4adce2b4",
   "metadata": {},
   "outputs": [
    {
     "data": {
      "text/html": [
       "<div>\n",
       "<style scoped>\n",
       "    .dataframe tbody tr th:only-of-type {\n",
       "        vertical-align: middle;\n",
       "    }\n",
       "\n",
       "    .dataframe tbody tr th {\n",
       "        vertical-align: top;\n",
       "    }\n",
       "\n",
       "    .dataframe thead th {\n",
       "        text-align: right;\n",
       "    }\n",
       "</style>\n",
       "<table border=\"1\" class=\"dataframe\">\n",
       "  <thead>\n",
       "    <tr style=\"text-align: right;\">\n",
       "      <th></th>\n",
       "      <th>disease_date</th>\n",
       "      <th>date_assess</th>\n",
       "      <th>years_PD</th>\n",
       "    </tr>\n",
       "  </thead>\n",
       "  <tbody>\n",
       "    <tr>\n",
       "      <th>182813</th>\n",
       "      <td>2004-05-14</td>\n",
       "      <td>2009-01-05</td>\n",
       "      <td>5.0</td>\n",
       "    </tr>\n",
       "    <tr>\n",
       "      <th>270212</th>\n",
       "      <td>2003-05-11</td>\n",
       "      <td>2006-05-24</td>\n",
       "      <td>3.0</td>\n",
       "    </tr>\n",
       "    <tr>\n",
       "      <th>318103</th>\n",
       "      <td>2005-05-20</td>\n",
       "      <td>2010-03-12</td>\n",
       "      <td>5.0</td>\n",
       "    </tr>\n",
       "    <tr>\n",
       "      <th>54520</th>\n",
       "      <td>2006-09-22</td>\n",
       "      <td>2008-09-01</td>\n",
       "      <td>2.0</td>\n",
       "    </tr>\n",
       "    <tr>\n",
       "      <th>49790</th>\n",
       "      <td>2007-05-03</td>\n",
       "      <td>2008-10-30</td>\n",
       "      <td>1.0</td>\n",
       "    </tr>\n",
       "    <tr>\n",
       "      <th>233042</th>\n",
       "      <td>2003-02-26</td>\n",
       "      <td>2008-04-30</td>\n",
       "      <td>5.0</td>\n",
       "    </tr>\n",
       "    <tr>\n",
       "      <th>101324</th>\n",
       "      <td>2006-12-25</td>\n",
       "      <td>2008-10-03</td>\n",
       "      <td>2.0</td>\n",
       "    </tr>\n",
       "    <tr>\n",
       "      <th>74457</th>\n",
       "      <td>2008-02-08</td>\n",
       "      <td>2009-07-14</td>\n",
       "      <td>1.0</td>\n",
       "    </tr>\n",
       "    <tr>\n",
       "      <th>18511</th>\n",
       "      <td>2007-07-02</td>\n",
       "      <td>2008-05-14</td>\n",
       "      <td>1.0</td>\n",
       "    </tr>\n",
       "    <tr>\n",
       "      <th>177647</th>\n",
       "      <td>2002-05-31</td>\n",
       "      <td>2008-01-10</td>\n",
       "      <td>6.0</td>\n",
       "    </tr>\n",
       "    <tr>\n",
       "      <th>260381</th>\n",
       "      <td>2005-04-22</td>\n",
       "      <td>2009-05-27</td>\n",
       "      <td>4.0</td>\n",
       "    </tr>\n",
       "    <tr>\n",
       "      <th>264521</th>\n",
       "      <td>2004-04-28</td>\n",
       "      <td>2010-02-24</td>\n",
       "      <td>6.0</td>\n",
       "    </tr>\n",
       "    <tr>\n",
       "      <th>315343</th>\n",
       "      <td>2006-03-28</td>\n",
       "      <td>2009-07-09</td>\n",
       "      <td>3.0</td>\n",
       "    </tr>\n",
       "    <tr>\n",
       "      <th>108495</th>\n",
       "      <td>2009-03-07</td>\n",
       "      <td>2009-07-01</td>\n",
       "      <td>0.0</td>\n",
       "    </tr>\n",
       "    <tr>\n",
       "      <th>323006</th>\n",
       "      <td>2005-05-06</td>\n",
       "      <td>2007-08-21</td>\n",
       "      <td>2.0</td>\n",
       "    </tr>\n",
       "    <tr>\n",
       "      <th>272509</th>\n",
       "      <td>2008-12-08</td>\n",
       "      <td>2009-03-31</td>\n",
       "      <td>0.0</td>\n",
       "    </tr>\n",
       "    <tr>\n",
       "      <th>103449</th>\n",
       "      <td>2006-03-24</td>\n",
       "      <td>2008-05-16</td>\n",
       "      <td>2.0</td>\n",
       "    </tr>\n",
       "    <tr>\n",
       "      <th>246887</th>\n",
       "      <td>2007-08-22</td>\n",
       "      <td>2007-09-18</td>\n",
       "      <td>0.0</td>\n",
       "    </tr>\n",
       "    <tr>\n",
       "      <th>298474</th>\n",
       "      <td>1999-02-26</td>\n",
       "      <td>2010-02-16</td>\n",
       "      <td>11.0</td>\n",
       "    </tr>\n",
       "    <tr>\n",
       "      <th>103365</th>\n",
       "      <td>2003-08-13</td>\n",
       "      <td>2009-09-03</td>\n",
       "      <td>6.0</td>\n",
       "    </tr>\n",
       "  </tbody>\n",
       "</table>\n",
       "</div>"
      ],
      "text/plain": [
       "       disease_date date_assess  years_PD\n",
       "182813   2004-05-14  2009-01-05       5.0\n",
       "270212   2003-05-11  2006-05-24       3.0\n",
       "318103   2005-05-20  2010-03-12       5.0\n",
       "54520    2006-09-22  2008-09-01       2.0\n",
       "49790    2007-05-03  2008-10-30       1.0\n",
       "233042   2003-02-26  2008-04-30       5.0\n",
       "101324   2006-12-25  2008-10-03       2.0\n",
       "74457    2008-02-08  2009-07-14       1.0\n",
       "18511    2007-07-02  2008-05-14       1.0\n",
       "177647   2002-05-31  2008-01-10       6.0\n",
       "260381   2005-04-22  2009-05-27       4.0\n",
       "264521   2004-04-28  2010-02-24       6.0\n",
       "315343   2006-03-28  2009-07-09       3.0\n",
       "108495   2009-03-07  2009-07-01       0.0\n",
       "323006   2005-05-06  2007-08-21       2.0\n",
       "272509   2008-12-08  2009-03-31       0.0\n",
       "103449   2006-03-24  2008-05-16       2.0\n",
       "246887   2007-08-22  2007-09-18       0.0\n",
       "298474   1999-02-26  2010-02-16      11.0\n",
       "103365   2003-08-13  2009-09-03       6.0"
      ]
     },
     "execution_count": 22,
     "metadata": {},
     "output_type": "execute_result"
    }
   ],
   "source": [
    "mask=(df_pd_full['disease_date']<df_pd_full['date_assess'])\n",
    "\n",
    "df_pd_full.loc[mask,['disease_date','date_assess','years_PD']].sample(20)"
   ]
  },
  {
   "cell_type": "code",
   "execution_count": 1,
   "id": "857d8b11",
   "metadata": {},
   "outputs": [
    {
     "ename": "NameError",
     "evalue": "name 'df_pd_full' is not defined",
     "output_type": "error",
     "traceback": [
      "\u001b[0;31m---------------------------------------------------------------------------\u001b[0m",
      "\u001b[0;31mNameError\u001b[0m                                 Traceback (most recent call last)",
      "\u001b[0;32m/var/folders/z0/b8gp2l4j50l0rgwy21ps2ltm0000gn/T/ipykernel_9267/4044946012.py\u001b[0m in \u001b[0;36m<module>\u001b[0;34m\u001b[0m\n\u001b[0;32m----> 1\u001b[0;31m \u001b[0mdf_pd_full\u001b[0m\u001b[0;34m\u001b[0m\u001b[0;34m\u001b[0m\u001b[0m\n\u001b[0m",
      "\u001b[0;31mNameError\u001b[0m: name 'df_pd_full' is not defined"
     ]
    }
   ],
   "source": [
    "df_pd_full"
   ]
  },
  {
   "cell_type": "code",
   "execution_count": null,
   "id": "165c8a3e",
   "metadata": {},
   "outputs": [],
   "source": []
  }
 ],
 "metadata": {
  "kernelspec": {
   "display_name": "Python 3 (ipykernel)",
   "language": "python",
   "name": "python3"
  },
  "language_info": {
   "codemirror_mode": {
    "name": "ipython",
    "version": 3
   },
   "file_extension": ".py",
   "mimetype": "text/x-python",
   "name": "python",
   "nbconvert_exporter": "python",
   "pygments_lexer": "ipython3",
   "version": "3.9.7"
  }
 },
 "nbformat": 4,
 "nbformat_minor": 5
}
